{
  "cells": [
    {
      "cell_type": "markdown",
      "metadata": {
        "id": "view-in-github",
        "colab_type": "text"
      },
      "source": [
        "<a href=\"https://colab.research.google.com/github/EA-b13/LULC_L3_Analysis/blob/main/Analyze_groundtruth_outputs%20(Jiwi%20Daah%20Hasa).ipynb\" target=\"_parent\"><img src=\"https://colab.research.google.com/assets/colab-badge.svg\" alt=\"Open In Colab\"/></a>"
      ]
    },
    {
      "cell_type": "markdown",
      "metadata": {
        "id": "gnB0dkw1P28o"
      },
      "source": [
        "# Set Coding Environment"
      ]
    },
    {
      "cell_type": "markdown",
      "metadata": {
        "id": "GaZxKbc2QdQZ"
      },
      "source": [
        "## Library Installations"
      ]
    },
    {
      "cell_type": "code",
      "execution_count": null,
      "metadata": {
        "id": "GIaMGgS2Qq1X"
      },
      "outputs": [],
      "source": [
        "# !pip install geemap geopandas"
      ]
    },
    {
      "cell_type": "markdown",
      "metadata": {
        "id": "ag8LW3RwQf_t"
      },
      "source": [
        "## Module Imports"
      ]
    },
    {
      "cell_type": "code",
      "execution_count": null,
      "metadata": {
        "id": "96t4Kb4mQ4ab"
      },
      "outputs": [],
      "source": [
        "import pandas as pd\n",
        "import numpy as np\n",
        "import seaborn as sns\n",
        "import matplotlib.pyplot as plt\n",
        "from sklearn.metrics import confusion_matrix\n",
        "from sklearn.metrics import classification_report\n",
        "import ee"
      ]
    },
    {
      "cell_type": "markdown",
      "metadata": {
        "id": "AChDfvYwQjpE"
      },
      "source": [
        "## Mount Google Drive"
      ]
    },
    {
      "cell_type": "code",
      "execution_count": null,
      "metadata": {
        "colab": {
          "base_uri": "https://localhost:8080/"
        },
        "id": "9PRNdeu_RAPQ",
        "outputId": "3d4e00fc-8fde-40e9-f202-73eb21916952"
      },
      "outputs": [
        {
          "output_type": "stream",
          "name": "stdout",
          "text": [
            "Mounted at /content/drive\n"
          ]
        }
      ],
      "source": [
        "from google.colab import drive\n",
        "drive.mount('/content/drive', force_remount=True)"
      ]
    },
    {
      "cell_type": "code",
      "execution_count": null,
      "metadata": {
        "colab": {
          "base_uri": "https://localhost:8080/"
        },
        "id": "0dPDVz6fRA1g",
        "outputId": "5c300558-cf34-4156-cd68-f1ada80e336b"
      },
      "outputs": [
        {
          "output_type": "stream",
          "name": "stdout",
          "text": [
            "/content/drive/MyDrive/LULC_Experiments_Chahat_Ananjan_Saketh\n"
          ]
        }
      ],
      "source": [
        "cd /content/drive/MyDrive/LULC_Experiments_Chahat_Ananjan_Saketh"
      ]
    },
    {
      "cell_type": "markdown",
      "metadata": {
        "id": "DiU-JOXKkJYC"
      },
      "source": [
        "## Authenticate to Google Earth Engine"
      ]
    },
    {
      "cell_type": "code",
      "execution_count": null,
      "metadata": {
        "id": "FaitlNuykMbs"
      },
      "outputs": [],
      "source": [
        "ee.Authenticate(force=True)"
      ]
    },
    {
      "cell_type": "code",
      "execution_count": null,
      "metadata": {
        "id": "2dMSLyaBkQDV"
      },
      "outputs": [],
      "source": [
        "ee.Initialize(project = 'ee-indiasat')"
      ]
    },
    {
      "cell_type": "code",
      "execution_count": null,
      "metadata": {
        "id": "DOcIYHYg4kpc"
      },
      "outputs": [],
      "source": [
        "discarded_crop_uuids = ['{a6ec1d16-112a-4db1-a0f5-4ac1190ab468}', '{12917735-b6db-4833-a486-1bf331aa6adc}', '{dbf3ce10-5845-49a6-b3be-43ea88490c56}', '{21f7259a-e22d-44d0-a7a8-e353aeb5d24d}', '{9652715f-624f-4385-a0c2-6b0f802ba769}', '{79e08cd3-0151-4dae-81e1-6d6a87cd6991}', '{4cf365a2-889f-4e7f-b7cd-b5fe57492a08}', '{562293b5-72de-426f-be57-2912fbc31961}', '{5199dd0b-b20b-4cb2-8536-f5e1e6af1e85}', '{b1ecd35a-3409-46f5-a7bf-66443c226d3a}', '{54aa5cc3-cb1c-4cec-bf22-8604b17382cb}', '{b0811f18-4084-4b8b-8aa8-f8bc1432ae6b}', '{5c882dec-012d-48bb-8937-b16353ecff4c}', '{47c293d1-a819-4087-ae07-d59c375e20fa}', '{449c22f3-cd87-4f2c-a40a-2cede52259b5}', '{f40cb350-2d88-4771-a226-c3a233922e85}', '{191754dc-dd98-4b8c-9aa3-f5ed78b58815}', '{85a359b0-33d6-47e4-928e-ab43eaf0fa1f}', '{7571f5c0-de9c-4dfd-9dec-d9ee4a380922}', '{fac9781a-4d07-400c-b77f-81f0d307d86d}', '{8a4f0b8f-d293-4b2b-9beb-2c79fbbf5f90}', '{0a817381-14c2-40cf-bdb6-f870c2fc94d9}', '{b518b3d6-383c-4fdb-a121-c3c9c1d6413b}', '{db779757-73a6-4565-b2ee-2339cc2adc6a}', '{c9a87a4e-b0d2-42b6-b5bc-a8b065c225f3}', '{30c4034c-0be6-4cf7-a37e-020f28304773}', '{039f16f5-ec15-4169-ba62-ea5f704f108f}', '{0f51b409-ff07-4fb1-8cac-d7a0ae49e4f3}', '{70996d11-864c-4596-a726-a9ddaae9be6b}', '{31134d90-3694-413e-8fb5-77131a37ddf5}', '{55e49b8c-8211-4766-9c72-783fdff351c1}', '{2364c4d4-0cde-47e2-a4bb-7949aa4cdad2}', '{2c000b27-64db-4c68-a93a-a2af4f58014c}', '{66cebaf2-a87c-4748-9926-0641b579f363}', '{fbd4d749-e85c-40cc-b967-26e29c8253f6}', '{39a4d444-d9d6-4064-b4df-6f2dd7d6618c}', '{307906da-f447-4be8-b945-8f948df48735}', '{76b8fab6-4917-48a1-8a29-d6b0d857c07d}', '{54e46716-438c-4d04-bfb7-bd29ea3dcce6}', '{4fa95f16-ae72-427e-bf4d-af1523d6bf26}', '{5728d07e-5496-4beb-9c9d-6d5d289056eb}', '{65fbef24-2076-43a9-a3c9-c033441c84b1}', '{9c960743-5656-4a61-b5d9-3e27807ef065}', '{b0971e07-50cd-4879-aefd-a6884414ee20}', '{f6746f92-f1c0-438a-b06b-a6c9ea86c62d}', '{5351d28e-8b15-4cf1-9739-f6bfa6c4e1a7}', '{1be20882-048d-46ba-b874-f25024c4e59a}', '{94301331-5cbc-4bee-ac98-387a82618469}', '{ca96b8fc-b15f-46be-a67d-ed159c6221ee}', '{d7ec73a6-d09c-4c05-b4c1-bc37f70caae2}', '{b78c4459-f158-4d88-85a2-60747bbb49cc}', '{76c94980-a181-4250-894a-37e0a27ac067}', '{589a7c6b-ff14-48a3-ad23-eea9f5cd55e3}', '{4c492f6f-9b6a-434a-972f-1bf6b3c99f47}', '{76bdbb75-70e0-42b8-aca0-13d907261448}', '{a80bd477-7c96-4a1c-a824-43ec6881a451}', '{0b6995ab-897a-4ae4-b744-936d03b152f1}', '{39e483eb-ceb5-440a-b64e-2f86286529e7}', '{a41603a6-a4dd-4a9d-9608-df1640a91a5e}', '{a1302d5f-5b0b-46d4-94f8-7ceb7dec8efc}', '{e2f31589-9d6e-4221-ab40-1358cae799dc}', '{bbd57b59-6b94-4408-b74f-432a6989c3a4}', '{d717cff1-a6a1-4dc1-9e83-43a63382a09e}']"
      ]
    },
    {
      "cell_type": "markdown",
      "metadata": {
        "id": "mWIoqWWAQl1E"
      },
      "source": [
        "# Original pan-India clusters"
      ]
    },
    {
      "cell_type": "markdown",
      "metadata": {
        "id": "p8kfIFptyOt7"
      },
      "source": [
        "## Recent 9 Mar 2024"
      ]
    },
    {
      "cell_type": "code",
      "execution_count": null,
      "metadata": {
        "colab": {
          "base_uri": "https://localhost:8080/",
          "height": 356
        },
        "id": "aHUD9RdlyWFy",
        "outputId": "ad3d8752-ec5b-4690-ad8a-b9e58b5a1543"
      },
      "outputs": [
        {
          "ename": "KeyError",
          "evalue": "\"['Crop_Form-'] not in index\"",
          "output_type": "error",
          "traceback": [
            "\u001b[0;31m---------------------------------------------------------------------------\u001b[0m",
            "\u001b[0;31mKeyError\u001b[0m                                  Traceback (most recent call last)",
            "\u001b[0;32m<ipython-input-10-f4ae1dcc9f7f>\u001b[0m in \u001b[0;36m<cell line: 62>\u001b[0;34m()\u001b[0m\n\u001b[1;32m     60\u001b[0m         \u001b[0;31m# df = pd.read_csv(folder_path)\u001b[0m\u001b[0;34m\u001b[0m\u001b[0;34m\u001b[0m\u001b[0m\n\u001b[1;32m     61\u001b[0m         \u001b[0;31m# df = df[['Predicted_L3_Label', 'Rainfed','Irrigated', 'confidence_L3']]\u001b[0m\u001b[0;34m\u001b[0m\u001b[0;34m\u001b[0m\u001b[0m\n\u001b[0;32m---> 62\u001b[0;31m \u001b[0mdf\u001b[0m \u001b[0;34m=\u001b[0m \u001b[0mdf\u001b[0m\u001b[0;34m[\u001b[0m\u001b[0;34m[\u001b[0m\u001b[0;34m'Crop_Form-'\u001b[0m\u001b[0;34m,\u001b[0m\u001b[0;34m'predicted_label'\u001b[0m\u001b[0;34m]\u001b[0m\u001b[0;34m]\u001b[0m\u001b[0;34m\u001b[0m\u001b[0;34m\u001b[0m\u001b[0m\n\u001b[0m\u001b[1;32m     63\u001b[0m \u001b[0mdf\u001b[0m\u001b[0;34m[\u001b[0m\u001b[0;34m'predicted_aggregate_label'\u001b[0m\u001b[0;34m]\u001b[0m \u001b[0;34m=\u001b[0m \u001b[0mdf\u001b[0m\u001b[0;34m[\u001b[0m\u001b[0;34m'predicted_label'\u001b[0m\u001b[0;34m]\u001b[0m\u001b[0;34m.\u001b[0m\u001b[0mmap\u001b[0m\u001b[0;34m(\u001b[0m\u001b[0mlabel_dictionary\u001b[0m\u001b[0;34m)\u001b[0m\u001b[0;34m\u001b[0m\u001b[0;34m\u001b[0m\u001b[0m\n\u001b[1;32m     64\u001b[0m \u001b[0;31m# df['GT_label'] = df['present_la'].map(label_dictionary_GT)\u001b[0m\u001b[0;34m\u001b[0m\u001b[0;34m\u001b[0m\u001b[0m\n",
            "\u001b[0;32m/usr/local/lib/python3.10/dist-packages/pandas/core/frame.py\u001b[0m in \u001b[0;36m__getitem__\u001b[0;34m(self, key)\u001b[0m\n\u001b[1;32m   3811\u001b[0m             \u001b[0;32mif\u001b[0m \u001b[0mis_iterator\u001b[0m\u001b[0;34m(\u001b[0m\u001b[0mkey\u001b[0m\u001b[0;34m)\u001b[0m\u001b[0;34m:\u001b[0m\u001b[0;34m\u001b[0m\u001b[0;34m\u001b[0m\u001b[0m\n\u001b[1;32m   3812\u001b[0m                 \u001b[0mkey\u001b[0m \u001b[0;34m=\u001b[0m \u001b[0mlist\u001b[0m\u001b[0;34m(\u001b[0m\u001b[0mkey\u001b[0m\u001b[0;34m)\u001b[0m\u001b[0;34m\u001b[0m\u001b[0;34m\u001b[0m\u001b[0m\n\u001b[0;32m-> 3813\u001b[0;31m             \u001b[0mindexer\u001b[0m \u001b[0;34m=\u001b[0m \u001b[0mself\u001b[0m\u001b[0;34m.\u001b[0m\u001b[0mcolumns\u001b[0m\u001b[0;34m.\u001b[0m\u001b[0m_get_indexer_strict\u001b[0m\u001b[0;34m(\u001b[0m\u001b[0mkey\u001b[0m\u001b[0;34m,\u001b[0m \u001b[0;34m\"columns\"\u001b[0m\u001b[0;34m)\u001b[0m\u001b[0;34m[\u001b[0m\u001b[0;36m1\u001b[0m\u001b[0;34m]\u001b[0m\u001b[0;34m\u001b[0m\u001b[0;34m\u001b[0m\u001b[0m\n\u001b[0m\u001b[1;32m   3814\u001b[0m \u001b[0;34m\u001b[0m\u001b[0m\n\u001b[1;32m   3815\u001b[0m         \u001b[0;31m# take() does not accept boolean indexers\u001b[0m\u001b[0;34m\u001b[0m\u001b[0;34m\u001b[0m\u001b[0m\n",
            "\u001b[0;32m/usr/local/lib/python3.10/dist-packages/pandas/core/indexes/base.py\u001b[0m in \u001b[0;36m_get_indexer_strict\u001b[0;34m(self, key, axis_name)\u001b[0m\n\u001b[1;32m   6068\u001b[0m             \u001b[0mkeyarr\u001b[0m\u001b[0;34m,\u001b[0m \u001b[0mindexer\u001b[0m\u001b[0;34m,\u001b[0m \u001b[0mnew_indexer\u001b[0m \u001b[0;34m=\u001b[0m \u001b[0mself\u001b[0m\u001b[0;34m.\u001b[0m\u001b[0m_reindex_non_unique\u001b[0m\u001b[0;34m(\u001b[0m\u001b[0mkeyarr\u001b[0m\u001b[0;34m)\u001b[0m\u001b[0;34m\u001b[0m\u001b[0;34m\u001b[0m\u001b[0m\n\u001b[1;32m   6069\u001b[0m \u001b[0;34m\u001b[0m\u001b[0m\n\u001b[0;32m-> 6070\u001b[0;31m         \u001b[0mself\u001b[0m\u001b[0;34m.\u001b[0m\u001b[0m_raise_if_missing\u001b[0m\u001b[0;34m(\u001b[0m\u001b[0mkeyarr\u001b[0m\u001b[0;34m,\u001b[0m \u001b[0mindexer\u001b[0m\u001b[0;34m,\u001b[0m \u001b[0maxis_name\u001b[0m\u001b[0;34m)\u001b[0m\u001b[0;34m\u001b[0m\u001b[0;34m\u001b[0m\u001b[0m\n\u001b[0m\u001b[1;32m   6071\u001b[0m \u001b[0;34m\u001b[0m\u001b[0m\n\u001b[1;32m   6072\u001b[0m         \u001b[0mkeyarr\u001b[0m \u001b[0;34m=\u001b[0m \u001b[0mself\u001b[0m\u001b[0;34m.\u001b[0m\u001b[0mtake\u001b[0m\u001b[0;34m(\u001b[0m\u001b[0mindexer\u001b[0m\u001b[0;34m)\u001b[0m\u001b[0;34m\u001b[0m\u001b[0;34m\u001b[0m\u001b[0m\n",
            "\u001b[0;32m/usr/local/lib/python3.10/dist-packages/pandas/core/indexes/base.py\u001b[0m in \u001b[0;36m_raise_if_missing\u001b[0;34m(self, key, indexer, axis_name)\u001b[0m\n\u001b[1;32m   6131\u001b[0m \u001b[0;34m\u001b[0m\u001b[0m\n\u001b[1;32m   6132\u001b[0m             \u001b[0mnot_found\u001b[0m \u001b[0;34m=\u001b[0m \u001b[0mlist\u001b[0m\u001b[0;34m(\u001b[0m\u001b[0mensure_index\u001b[0m\u001b[0;34m(\u001b[0m\u001b[0mkey\u001b[0m\u001b[0;34m)\u001b[0m\u001b[0;34m[\u001b[0m\u001b[0mmissing_mask\u001b[0m\u001b[0;34m.\u001b[0m\u001b[0mnonzero\u001b[0m\u001b[0;34m(\u001b[0m\u001b[0;34m)\u001b[0m\u001b[0;34m[\u001b[0m\u001b[0;36m0\u001b[0m\u001b[0;34m]\u001b[0m\u001b[0;34m]\u001b[0m\u001b[0;34m.\u001b[0m\u001b[0munique\u001b[0m\u001b[0;34m(\u001b[0m\u001b[0;34m)\u001b[0m\u001b[0;34m)\u001b[0m\u001b[0;34m\u001b[0m\u001b[0;34m\u001b[0m\u001b[0m\n\u001b[0;32m-> 6133\u001b[0;31m             \u001b[0;32mraise\u001b[0m \u001b[0mKeyError\u001b[0m\u001b[0;34m(\u001b[0m\u001b[0;34mf\"{not_found} not in index\"\u001b[0m\u001b[0;34m)\u001b[0m\u001b[0;34m\u001b[0m\u001b[0;34m\u001b[0m\u001b[0m\n\u001b[0m\u001b[1;32m   6134\u001b[0m \u001b[0;34m\u001b[0m\u001b[0m\n\u001b[1;32m   6135\u001b[0m     \u001b[0;34m@\u001b[0m\u001b[0moverload\u001b[0m\u001b[0;34m\u001b[0m\u001b[0;34m\u001b[0m\u001b[0m\n",
            "\u001b[0;31mKeyError\u001b[0m: \"['Crop_Form-'] not in index\""
          ]
        }
      ],
      "source": [
        "# Script to analyse Jiwi Daah Hasa groundtruth vs prediction outputs\n",
        "\n",
        "import os\n",
        "\n",
        "'''\n",
        "8 - SK\n",
        "9 - SNK\n",
        "10 - Double\n",
        "11 - Triple\n",
        "12 - Invalid\n",
        "'''\n",
        "# label_dictionary = {8: 'Kharif', 9: 'SNK', 10: 'Double', 11: 'Triple', 12: 'Invalid'}\n",
        "# label_dictionary_GT = {'Single': 'Single',\n",
        "#                        'Double': 'Double',\n",
        "#                        'Continuous': 'Triple',\n",
        "#                        'Continous':'Triple',\n",
        "#                        'Unknown':'Invalid'\n",
        "#                        }\n",
        "label_dictionary_GT = {'rainfed': 'Kharif',\n",
        "                       'Rainfed': 'Kharif',\n",
        "                       'rainfed others1': 'Kharif',\n",
        "                       'rainfed orchared': 'Invalid',\n",
        "                       'orchared rainfed': 'Invalid',\n",
        "                       'irrigated': 'Double/Triple',\n",
        "                       'Irrigated': 'Double/Triple',\n",
        "                       'orchared irrigated': 'Invalid',\n",
        "                       'irrigated orchared': 'Invalid',\n",
        "                       'fallow': 'Fallow',\n",
        "                       'fallow irrigated': 'Fallow',\n",
        "                       'fallow orchared': 'Fallow',\n",
        "                       'fallow others1': 'Fallow',\n",
        "                       'fallow rainfed': 'Fallow',\n",
        "                       'irrigated fallow': 'Fallow',\n",
        "                       'irrigated fallow others1': 'Fallow',\n",
        "                       'irrigated rainfed fallow': 'Fallow',\n",
        "                       'irrigated rainfed fallow orchared': 'Fallow',\n",
        "                       'orchared fallow': 'Invalid',\n",
        "                       'rainfed fallow': 'Fallow',\n",
        "                       'rainfed fallow irrigated': 'Fallow'}\n",
        "# result = pd.DataFrame(columns = ['Predicted_L3_Label','confidence_L3', 'cropping_frequency'])\n",
        "label_dictionary = {\n",
        "              1: 'builtup',\n",
        "              2: 'kharif water',\n",
        "              3: 'kharif and rabi water',\n",
        "              4: 'kharif and rabi and zaid water',\n",
        "              5: 'croplands',\n",
        "              6: 'Tree/Forests',\n",
        "              7: 'barren lands',\n",
        "              8: 'Kharif',\n",
        "              9: 'SNK',\n",
        "              10: 'Double',\n",
        "              11: 'croplands',\n",
        "              12: 'Triple',\n",
        "              13: 'Shrubs_Scrubs'}\n",
        "\n",
        "# for i in range(47):\n",
        "#     folder_path = 'Scripts/Level3_Classification_Scripts/ChahatBansal/L3_NDVI_TS_Implementation_Chahat/Non_Padded_TS_Implementation/Eashan/Data/Non_Padded_Original_TS/DICRA_JH_2022-07-01_2023-06-30_Level3_LULCmap_100m_PanIndia_LSC_TS_clusters_2018_19_'+str(i)+'.csv'\n",
        "#     if (os.path.exists(folder_path)):\n",
        "df = pd.read_csv('Scripts/Level3_Classification_Scripts/ChahatBansal/L3_NDVI_TS_Implementation_Chahat/Non_Padded_TS_Implementation/Eashan/Data/Non_Padded_Original_TS/Jamui_cropland_2013-07-01_2014-06-30_LULCmap_100m_Final_pipeline_L7.csv')\n",
        "# ee. FeatureCollection('projects/ee-indiasat/assets/LULC_Version2_Outputs_NewHierarchy/Dicra_OD_2022-07-01_2023-06-30_LULCmap_100m_Final_pipeline')\n",
        "\n",
        "        # df = pd.read_csv(folder_path)\n",
        "        # df = df[['Predicted_L3_Label', 'Rainfed','Irrigated', 'confidence_L3']]\n",
        "df = df[['Crop_Form-','predicted_label']]\n",
        "df['predicted_aggregate_label'] = df['predicted_label'].map(label_dictionary)\n",
        "# df['GT_label'] = df['present_la'].map(label_dictionary_GT)\n",
        "df.loc[~df['Crop_Form-'].isin({'Fallow'}), 'Crop_Form-'] = 'croplands'\n",
        "df['GT_label'] = df['Crop_Form-']\n",
        "        # df['Intensity_1'] = df['Rainfed'].map(label_dictionary_GT)\n",
        "        # df['Intensity_2'] = df['Irrigated'].map(label_dictionary_GT)\n",
        "\n",
        "        # def cond(s):\n",
        "        #     if (s['Rainfed'] == 'Rainfed'):\n",
        "        #         return 'Single'\n",
        "        #     elif (s['Irrigated'] == 'Irrigated'):\n",
        "        #         return 'Double/Triple'\n",
        "        #     else:\n",
        "        #         return 'Invalid'\n",
        "\n",
        "        # df['Intensity'] = df.apply(cond, axis=1)\n",
        "# df = df.drop(df[df['GT_label'] == 'Invalid'].index)\n",
        "# df = df.drop(df[df['GT_label'] == 'Fallow'].index)\n",
        "df = df.dropna(subset=['GT_label','predicted_aggregate_label'])\n",
        "# var conditional = function(feat) {\n",
        "#     return ee.Algorithms.If(ee.String(feat.get('Intensity')).eq('Continous'),\n",
        "#     feat.set({Intensity: Continuous}),\n",
        "#     feat)\n",
        "# }\n",
        "# df.map(conditional)\n",
        "\n",
        "# discarded_crop_uuids = ['{a6ec1d16-112a-4db1-a0f5-4ac1190ab468}', '{12917735-b6db-4833-a486-1bf331aa6adc}', '{dbf3ce10-5845-49a6-b3be-43ea88490c56}', '{21f7259a-e22d-44d0-a7a8-e353aeb5d24d}', '{9652715f-624f-4385-a0c2-6b0f802ba769}', '{79e08cd3-0151-4dae-81e1-6d6a87cd6991}', '{4cf365a2-889f-4e7f-b7cd-b5fe57492a08}', '{562293b5-72de-426f-be57-2912fbc31961}', '{5199dd0b-b20b-4cb2-8536-f5e1e6af1e85}', '{b1ecd35a-3409-46f5-a7bf-66443c226d3a}', '{54aa5cc3-cb1c-4cec-bf22-8604b17382cb}', '{b0811f18-4084-4b8b-8aa8-f8bc1432ae6b}', '{5c882dec-012d-48bb-8937-b16353ecff4c}', '{47c293d1-a819-4087-ae07-d59c375e20fa}', '{449c22f3-cd87-4f2c-a40a-2cede52259b5}', '{f40cb350-2d88-4771-a226-c3a233922e85}', '{191754dc-dd98-4b8c-9aa3-f5ed78b58815}', '{85a359b0-33d6-47e4-928e-ab43eaf0fa1f}', '{7571f5c0-de9c-4dfd-9dec-d9ee4a380922}', '{fac9781a-4d07-400c-b77f-81f0d307d86d}', '{8a4f0b8f-d293-4b2b-9beb-2c79fbbf5f90}', '{0a817381-14c2-40cf-bdb6-f870c2fc94d9}', '{b518b3d6-383c-4fdb-a121-c3c9c1d6413b}', '{db779757-73a6-4565-b2ee-2339cc2adc6a}', '{c9a87a4e-b0d2-42b6-b5bc-a8b065c225f3}', '{30c4034c-0be6-4cf7-a37e-020f28304773}', '{039f16f5-ec15-4169-ba62-ea5f704f108f}', '{0f51b409-ff07-4fb1-8cac-d7a0ae49e4f3}', '{70996d11-864c-4596-a726-a9ddaae9be6b}', '{31134d90-3694-413e-8fb5-77131a37ddf5}', '{55e49b8c-8211-4766-9c72-783fdff351c1}', '{2364c4d4-0cde-47e2-a4bb-7949aa4cdad2}', '{2c000b27-64db-4c68-a93a-a2af4f58014c}', '{66cebaf2-a87c-4748-9926-0641b579f363}', '{fbd4d749-e85c-40cc-b967-26e29c8253f6}', '{39a4d444-d9d6-4064-b4df-6f2dd7d6618c}', '{307906da-f447-4be8-b945-8f948df48735}', '{76b8fab6-4917-48a1-8a29-d6b0d857c07d}', '{54e46716-438c-4d04-bfb7-bd29ea3dcce6}', '{4fa95f16-ae72-427e-bf4d-af1523d6bf26}', '{5728d07e-5496-4beb-9c9d-6d5d289056eb}', '{65fbef24-2076-43a9-a3c9-c033441c84b1}', '{9c960743-5656-4a61-b5d9-3e27807ef065}', '{b0971e07-50cd-4879-aefd-a6884414ee20}', '{f6746f92-f1c0-438a-b06b-a6c9ea86c62d}', '{5351d28e-8b15-4cf1-9739-f6bfa6c4e1a7}', '{1be20882-048d-46ba-b874-f25024c4e59a}', '{94301331-5cbc-4bee-ac98-387a82618469}', '{ca96b8fc-b15f-46be-a67d-ed159c6221ee}', '{d7ec73a6-d09c-4c05-b4c1-bc37f70caae2}', '{b78c4459-f158-4d88-85a2-60747bbb49cc}', '{76c94980-a181-4250-894a-37e0a27ac067}', '{589a7c6b-ff14-48a3-ad23-eea9f5cd55e3}', '{4c492f6f-9b6a-434a-972f-1bf6b3c99f47}', '{76bdbb75-70e0-42b8-aca0-13d907261448}', '{a80bd477-7c96-4a1c-a824-43ec6881a451}', '{0b6995ab-897a-4ae4-b744-936d03b152f1}', '{39e483eb-ceb5-440a-b64e-2f86286529e7}', '{a41603a6-a4dd-4a9d-9608-df1640a91a5e}', '{a1302d5f-5b0b-46d4-94f8-7ceb7dec8efc}', '{e2f31589-9d6e-4221-ab40-1358cae799dc}', '{bbd57b59-6b94-4408-b74f-432a6989c3a4}', '{d717cff1-a6a1-4dc1-9e83-43a63382a09e}']\n",
        "# df_filtered = df[~df['crop_uuid'].isin(discarded_crop_uuids)]\n",
        "\n",
        "def custom_aggregation(group):\n",
        "    sum_confidence = group.groupby('cropping_frequency')['confidence_L3'].sum().reset_index()\n",
        "    max_label = sum_confidence.loc[sum_confidence['confidence_L3'].idxmax(), 'cropping_frequency']\n",
        "    return max_label\n",
        "\n",
        "result = df\n",
        "# Apply the custom_aggregation function\n",
        "# result = df_filtered.groupby(['crop_uuid', 'GT_label']).apply(custom_aggregation).reset_index()\n",
        "# result1 = df1.groupby(['crop_uuid', 'GT_label']).apply(custom_aggregation).reset_index()\n",
        "# result.columns = ['GT_label', 'predicted_aggregate_label']\n",
        "# result_part = df.groupby(['fid', 'Crop Inten']).apply(custom_aggregation).reset_index()\n",
        "# result_part.columns = ['fid', 'GT_label', 'predicted_aggregate_label']\n",
        "# result_part['GT_label'] = result_part['GT_label'].map(label_dictionary_GT)\n",
        "# result = pd.concat([result,df])\n",
        "    # else:\n",
        "    #     print(folder_path, ' does not exist.')\n",
        "\n",
        "'''\n",
        "Display the confusion matrix of labels from field volunteers and labels from visualized time series\n",
        "'''\n",
        "actual_values = result['GT_label']\n",
        "predicted_values = result['predicted_aggregate_label']\n",
        "# predicted_values = result['cropping_frequency']\n",
        "\n",
        "actual_labels = set( actual_values.values)\n",
        "predicted_labels = set( predicted_values.values )\n",
        "unique_labels = list( set( actual_labels.union(predicted_labels) ) )\n",
        "\n",
        "from sklearn.metrics import classification_report\n",
        "report = classification_report(actual_values, predicted_values, zero_division=0)\n",
        "print(report)\n",
        "\n",
        "conf_matrix = confusion_matrix(actual_values, predicted_values, labels=unique_labels)\n",
        "\n",
        "# Create a heatmap for the confusion matrix\n",
        "plt.figure(figsize=(15, 10))\n",
        "ax = sns.heatmap(conf_matrix, annot=True, fmt=\"d\", cmap=\"Blues\", xticklabels=unique_labels, yticklabels=unique_labels, annot_kws={\"size\": 18})\n",
        "ax.set_yticklabels(ax.get_yticklabels(), rotation=0)\n",
        "plt.xlabel(\"predicted LSC_clusters LSC_time_series\", size=18)\n",
        "plt.ylabel(\"actual field-level labels\", size=18)\n",
        "plt.yticks(size=18)\n",
        "plt.xticks(size=18)\n",
        "plt.title(\"Confusion Matrix of labels from Nyas_Kharif ground truth (reprojected) and predicted labels (LSC clusters, LSC TS, 2023)\", size=18)\n",
        "plt.show()\n",
        "\n",
        "'''\n",
        "Display uuids of patterns under consideration\n",
        "'''\n",
        "def display_stats(subset_df, actual_value, pred_value):\n",
        "  print(\"\\n ******************** Field data says \",actual_value,\" <> Prediction says \",pred_value,\" *********************\\n\")\n",
        "\n",
        "  filtered_rows = result.loc[(result['GT_label']==actual_value) & (result['predicted_aggregate_label']==pred_value)]\n",
        "  display(filtered_rows)\n",
        "  # filtered_labels = filtered_rows['predicted_aggregate_label']\n",
        "  # crops_df = subset_df.loc[ subset_df['predicted_aggregate_label'].isin(filtered_labels) ]\n",
        "  # out = crops_df[['crop_uuid','predicted_aggregate_label','GT_label']].drop_duplicates()\n",
        "\n",
        "\n",
        "\n",
        "\n",
        "# display_stats(result, 'Triple', 'Double')\n",
        "# display_stats(filtered_df, 'Am_Double', 'Triple')\n",
        "# display_stats(filtered_df, 'Am_Kharif', 'Double')\n",
        "# display_stats(filtered_df, 'Kharif', 'Double')\n",
        "# display_stats(filtered_df, 'Am_Double', 'Double')\n",
        "# display_stats(filtered_df, 'Long Duration Kharif', 'Kharif')"
      ]
    }
  ],
  "metadata": {
    "colab": {
      "collapsed_sections": [
        "N4ZLMbGx-v5F"
      ],
      "toc_visible": true,
      "provenance": [],
      "authorship_tag": "ABX9TyP5yFY99uXsMOFCbo3VmNSR",
      "include_colab_link": true
    },
    "kernelspec": {
      "display_name": "Python 3",
      "name": "python3"
    },
    "language_info": {
      "name": "python"
    }
  },
  "nbformat": 4,
  "nbformat_minor": 0
}