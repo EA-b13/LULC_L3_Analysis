{
  "nbformat": 4,
  "nbformat_minor": 0,
  "metadata": {
    "colab": {
      "provenance": [],
      "toc_visible": true,
      "include_colab_link": true
    },
    "kernelspec": {
      "name": "python3",
      "display_name": "Python 3"
    },
    "language_info": {
      "name": "python"
    }
  },
  "cells": [
    {
      "cell_type": "markdown",
      "metadata": {
        "id": "view-in-github",
        "colab_type": "text"
      },
      "source": [
        "<a href=\"https://colab.research.google.com/github/EA-b13/LULC_L3_Analysis/blob/main/Generate_NonPadded_LSMC_L9_TS_TrainingData%20(L7%2C8%2C9%2C%20S2%20clustering%20(C2)%2C%202018-19).ipynb\" target=\"_parent\"><img src=\"https://colab.research.google.com/assets/colab-badge.svg\" alt=\"Open In Colab\"/></a>"
      ]
    },
    {
      "cell_type": "markdown",
      "source": [
        "# Set Coding Environment"
      ],
      "metadata": {
        "id": "GpVtD6DoukJV"
      }
    },
    {
      "cell_type": "markdown",
      "source": [
        "## Library installations"
      ],
      "metadata": {
        "id": "TDxZmjR3u5mp"
      }
    },
    {
      "cell_type": "code",
      "source": [
        "!pip install geemap geopandas"
      ],
      "metadata": {
        "id": "ydq6MFpwu9gF",
        "colab": {
          "base_uri": "https://localhost:8080/"
        },
        "outputId": "af49f4be-f36d-4238-b131-36788693f2de"
      },
      "execution_count": null,
      "outputs": [
        {
          "output_type": "stream",
          "name": "stdout",
          "text": [
            "Requirement already satisfied: geemap in /usr/local/lib/python3.10/dist-packages (0.32.0)\n",
            "Requirement already satisfied: geopandas in /usr/local/lib/python3.10/dist-packages (0.13.2)\n",
            "Requirement already satisfied: bqplot in /usr/local/lib/python3.10/dist-packages (from geemap) (0.12.43)\n",
            "Requirement already satisfied: colour in /usr/local/lib/python3.10/dist-packages (from geemap) (0.1.5)\n",
            "Requirement already satisfied: earthengine-api>=0.1.347 in /usr/local/lib/python3.10/dist-packages (from geemap) (0.1.394)\n",
            "Requirement already satisfied: eerepr>=0.0.4 in /usr/local/lib/python3.10/dist-packages (from geemap) (0.0.4)\n",
            "Requirement already satisfied: folium>=0.13.0 in /usr/local/lib/python3.10/dist-packages (from geemap) (0.14.0)\n",
            "Requirement already satisfied: geocoder in /usr/local/lib/python3.10/dist-packages (from geemap) (1.38.1)\n",
            "Requirement already satisfied: ipyevents in /usr/local/lib/python3.10/dist-packages (from geemap) (2.0.2)\n",
            "Requirement already satisfied: ipyfilechooser>=0.6.0 in /usr/local/lib/python3.10/dist-packages (from geemap) (0.6.0)\n",
            "Requirement already satisfied: ipyleaflet>=0.17.0 in /usr/local/lib/python3.10/dist-packages (from geemap) (0.18.2)\n",
            "Requirement already satisfied: ipytree in /usr/local/lib/python3.10/dist-packages (from geemap) (0.2.2)\n",
            "Requirement already satisfied: matplotlib in /usr/local/lib/python3.10/dist-packages (from geemap) (3.7.1)\n",
            "Requirement already satisfied: numpy in /usr/local/lib/python3.10/dist-packages (from geemap) (1.25.2)\n",
            "Requirement already satisfied: pandas in /usr/local/lib/python3.10/dist-packages (from geemap) (1.5.3)\n",
            "Requirement already satisfied: plotly in /usr/local/lib/python3.10/dist-packages (from geemap) (5.15.0)\n",
            "Requirement already satisfied: pyperclip in /usr/local/lib/python3.10/dist-packages (from geemap) (1.8.2)\n",
            "Requirement already satisfied: pyshp>=2.1.3 in /usr/local/lib/python3.10/dist-packages (from geemap) (2.3.1)\n",
            "Requirement already satisfied: python-box in /usr/local/lib/python3.10/dist-packages (from geemap) (7.1.1)\n",
            "Requirement already satisfied: scooby in /usr/local/lib/python3.10/dist-packages (from geemap) (0.9.2)\n",
            "Requirement already satisfied: fiona>=1.8.19 in /usr/local/lib/python3.10/dist-packages (from geopandas) (1.9.6)\n",
            "Requirement already satisfied: packaging in /usr/local/lib/python3.10/dist-packages (from geopandas) (24.0)\n",
            "Requirement already satisfied: pyproj>=3.0.1 in /usr/local/lib/python3.10/dist-packages (from geopandas) (3.6.1)\n",
            "Requirement already satisfied: shapely>=1.7.1 in /usr/local/lib/python3.10/dist-packages (from geopandas) (2.0.3)\n",
            "Requirement already satisfied: google-cloud-storage in /usr/local/lib/python3.10/dist-packages (from earthengine-api>=0.1.347->geemap) (2.8.0)\n",
            "Requirement already satisfied: google-api-python-client>=1.12.1 in /usr/local/lib/python3.10/dist-packages (from earthengine-api>=0.1.347->geemap) (2.84.0)\n",
            "Requirement already satisfied: google-auth>=1.4.1 in /usr/local/lib/python3.10/dist-packages (from earthengine-api>=0.1.347->geemap) (2.27.0)\n",
            "Requirement already satisfied: google-auth-httplib2>=0.0.3 in /usr/local/lib/python3.10/dist-packages (from earthengine-api>=0.1.347->geemap) (0.1.1)\n",
            "Requirement already satisfied: httplib2<1dev,>=0.9.2 in /usr/local/lib/python3.10/dist-packages (from earthengine-api>=0.1.347->geemap) (0.22.0)\n",
            "Requirement already satisfied: requests in /usr/local/lib/python3.10/dist-packages (from earthengine-api>=0.1.347->geemap) (2.31.0)\n",
            "Requirement already satisfied: attrs>=19.2.0 in /usr/local/lib/python3.10/dist-packages (from fiona>=1.8.19->geopandas) (23.2.0)\n",
            "Requirement already satisfied: certifi in /usr/local/lib/python3.10/dist-packages (from fiona>=1.8.19->geopandas) (2024.2.2)\n",
            "Requirement already satisfied: click~=8.0 in /usr/local/lib/python3.10/dist-packages (from fiona>=1.8.19->geopandas) (8.1.7)\n",
            "Requirement already satisfied: click-plugins>=1.0 in /usr/local/lib/python3.10/dist-packages (from fiona>=1.8.19->geopandas) (1.1.1)\n",
            "Requirement already satisfied: cligj>=0.5 in /usr/local/lib/python3.10/dist-packages (from fiona>=1.8.19->geopandas) (0.7.2)\n",
            "Requirement already satisfied: six in /usr/local/lib/python3.10/dist-packages (from fiona>=1.8.19->geopandas) (1.16.0)\n",
            "Requirement already satisfied: branca>=0.6.0 in /usr/local/lib/python3.10/dist-packages (from folium>=0.13.0->geemap) (0.7.1)\n",
            "Requirement already satisfied: jinja2>=2.9 in /usr/local/lib/python3.10/dist-packages (from folium>=0.13.0->geemap) (3.1.3)\n",
            "Requirement already satisfied: ipywidgets in /usr/local/lib/python3.10/dist-packages (from ipyfilechooser>=0.6.0->geemap) (7.7.1)\n",
            "Requirement already satisfied: traittypes<3,>=0.2.1 in /usr/local/lib/python3.10/dist-packages (from ipyleaflet>=0.17.0->geemap) (0.2.1)\n",
            "Requirement already satisfied: xyzservices>=2021.8.1 in /usr/local/lib/python3.10/dist-packages (from ipyleaflet>=0.17.0->geemap) (2023.10.1)\n",
            "Requirement already satisfied: python-dateutil>=2.8.1 in /usr/local/lib/python3.10/dist-packages (from pandas->geemap) (2.8.2)\n",
            "Requirement already satisfied: pytz>=2020.1 in /usr/local/lib/python3.10/dist-packages (from pandas->geemap) (2023.4)\n",
            "Requirement already satisfied: traitlets>=4.3.0 in /usr/local/lib/python3.10/dist-packages (from bqplot->geemap) (5.7.1)\n",
            "Requirement already satisfied: future in /usr/local/lib/python3.10/dist-packages (from geocoder->geemap) (0.18.3)\n",
            "Requirement already satisfied: ratelim in /usr/local/lib/python3.10/dist-packages (from geocoder->geemap) (0.1.6)\n",
            "Requirement already satisfied: contourpy>=1.0.1 in /usr/local/lib/python3.10/dist-packages (from matplotlib->geemap) (1.2.0)\n",
            "Requirement already satisfied: cycler>=0.10 in /usr/local/lib/python3.10/dist-packages (from matplotlib->geemap) (0.12.1)\n",
            "Requirement already satisfied: fonttools>=4.22.0 in /usr/local/lib/python3.10/dist-packages (from matplotlib->geemap) (4.50.0)\n",
            "Requirement already satisfied: kiwisolver>=1.0.1 in /usr/local/lib/python3.10/dist-packages (from matplotlib->geemap) (1.4.5)\n",
            "Requirement already satisfied: pillow>=6.2.0 in /usr/local/lib/python3.10/dist-packages (from matplotlib->geemap) (9.4.0)\n",
            "Requirement already satisfied: pyparsing>=2.3.1 in /usr/local/lib/python3.10/dist-packages (from matplotlib->geemap) (3.1.2)\n",
            "Requirement already satisfied: tenacity>=6.2.0 in /usr/local/lib/python3.10/dist-packages (from plotly->geemap) (8.2.3)\n",
            "Requirement already satisfied: google-api-core!=2.0.*,!=2.1.*,!=2.2.*,!=2.3.0,<3.0.0dev,>=1.31.5 in /usr/local/lib/python3.10/dist-packages (from google-api-python-client>=1.12.1->earthengine-api>=0.1.347->geemap) (2.11.1)\n",
            "Requirement already satisfied: uritemplate<5,>=3.0.1 in /usr/local/lib/python3.10/dist-packages (from google-api-python-client>=1.12.1->earthengine-api>=0.1.347->geemap) (4.1.1)\n",
            "Requirement already satisfied: cachetools<6.0,>=2.0.0 in /usr/local/lib/python3.10/dist-packages (from google-auth>=1.4.1->earthengine-api>=0.1.347->geemap) (5.3.3)\n",
            "Requirement already satisfied: pyasn1-modules>=0.2.1 in /usr/local/lib/python3.10/dist-packages (from google-auth>=1.4.1->earthengine-api>=0.1.347->geemap) (0.3.0)\n",
            "Requirement already satisfied: rsa<5,>=3.1.4 in /usr/local/lib/python3.10/dist-packages (from google-auth>=1.4.1->earthengine-api>=0.1.347->geemap) (4.9)\n",
            "Requirement already satisfied: ipykernel>=4.5.1 in /usr/local/lib/python3.10/dist-packages (from ipywidgets->ipyfilechooser>=0.6.0->geemap) (5.5.6)\n",
            "Requirement already satisfied: ipython-genutils~=0.2.0 in /usr/local/lib/python3.10/dist-packages (from ipywidgets->ipyfilechooser>=0.6.0->geemap) (0.2.0)\n",
            "Requirement already satisfied: widgetsnbextension~=3.6.0 in /usr/local/lib/python3.10/dist-packages (from ipywidgets->ipyfilechooser>=0.6.0->geemap) (3.6.6)\n",
            "Requirement already satisfied: ipython>=4.0.0 in /usr/local/lib/python3.10/dist-packages (from ipywidgets->ipyfilechooser>=0.6.0->geemap) (7.34.0)\n",
            "Requirement already satisfied: jupyterlab-widgets>=1.0.0 in /usr/local/lib/python3.10/dist-packages (from ipywidgets->ipyfilechooser>=0.6.0->geemap) (3.0.10)\n",
            "Requirement already satisfied: MarkupSafe>=2.0 in /usr/local/lib/python3.10/dist-packages (from jinja2>=2.9->folium>=0.13.0->geemap) (2.1.5)\n",
            "Requirement already satisfied: google-cloud-core<3.0dev,>=2.3.0 in /usr/local/lib/python3.10/dist-packages (from google-cloud-storage->earthengine-api>=0.1.347->geemap) (2.3.3)\n",
            "Requirement already satisfied: google-resumable-media>=2.3.2 in /usr/local/lib/python3.10/dist-packages (from google-cloud-storage->earthengine-api>=0.1.347->geemap) (2.7.0)\n",
            "Requirement already satisfied: charset-normalizer<4,>=2 in /usr/local/lib/python3.10/dist-packages (from requests->earthengine-api>=0.1.347->geemap) (3.3.2)\n",
            "Requirement already satisfied: idna<4,>=2.5 in /usr/local/lib/python3.10/dist-packages (from requests->earthengine-api>=0.1.347->geemap) (3.6)\n",
            "Requirement already satisfied: urllib3<3,>=1.21.1 in /usr/local/lib/python3.10/dist-packages (from requests->earthengine-api>=0.1.347->geemap) (2.0.7)\n",
            "Requirement already satisfied: decorator in /usr/local/lib/python3.10/dist-packages (from ratelim->geocoder->geemap) (4.4.2)\n",
            "Requirement already satisfied: googleapis-common-protos<2.0.dev0,>=1.56.2 in /usr/local/lib/python3.10/dist-packages (from google-api-core!=2.0.*,!=2.1.*,!=2.2.*,!=2.3.0,<3.0.0dev,>=1.31.5->google-api-python-client>=1.12.1->earthengine-api>=0.1.347->geemap) (1.63.0)\n",
            "Requirement already satisfied: protobuf!=3.20.0,!=3.20.1,!=4.21.0,!=4.21.1,!=4.21.2,!=4.21.3,!=4.21.4,!=4.21.5,<5.0.0.dev0,>=3.19.5 in /usr/local/lib/python3.10/dist-packages (from google-api-core!=2.0.*,!=2.1.*,!=2.2.*,!=2.3.0,<3.0.0dev,>=1.31.5->google-api-python-client>=1.12.1->earthengine-api>=0.1.347->geemap) (3.20.3)\n",
            "Requirement already satisfied: google-crc32c<2.0dev,>=1.0 in /usr/local/lib/python3.10/dist-packages (from google-resumable-media>=2.3.2->google-cloud-storage->earthengine-api>=0.1.347->geemap) (1.5.0)\n",
            "Requirement already satisfied: jupyter-client in /usr/local/lib/python3.10/dist-packages (from ipykernel>=4.5.1->ipywidgets->ipyfilechooser>=0.6.0->geemap) (6.1.12)\n",
            "Requirement already satisfied: tornado>=4.2 in /usr/local/lib/python3.10/dist-packages (from ipykernel>=4.5.1->ipywidgets->ipyfilechooser>=0.6.0->geemap) (6.3.3)\n",
            "Requirement already satisfied: setuptools>=18.5 in /usr/local/lib/python3.10/dist-packages (from ipython>=4.0.0->ipywidgets->ipyfilechooser>=0.6.0->geemap) (67.7.2)\n",
            "Collecting jedi>=0.16 (from ipython>=4.0.0->ipywidgets->ipyfilechooser>=0.6.0->geemap)\n",
            "  Downloading jedi-0.19.1-py2.py3-none-any.whl (1.6 MB)\n",
            "\u001b[2K     \u001b[90m━━━━━━━━━━━━━━━━━━━━━━━━━━━━━━━━━━━━━━━━\u001b[0m \u001b[32m1.6/1.6 MB\u001b[0m \u001b[31m8.1 MB/s\u001b[0m eta \u001b[36m0:00:00\u001b[0m\n",
            "\u001b[?25hRequirement already satisfied: pickleshare in /usr/local/lib/python3.10/dist-packages (from ipython>=4.0.0->ipywidgets->ipyfilechooser>=0.6.0->geemap) (0.7.5)\n",
            "Requirement already satisfied: prompt-toolkit!=3.0.0,!=3.0.1,<3.1.0,>=2.0.0 in /usr/local/lib/python3.10/dist-packages (from ipython>=4.0.0->ipywidgets->ipyfilechooser>=0.6.0->geemap) (3.0.43)\n",
            "Requirement already satisfied: pygments in /usr/local/lib/python3.10/dist-packages (from ipython>=4.0.0->ipywidgets->ipyfilechooser>=0.6.0->geemap) (2.16.1)\n",
            "Requirement already satisfied: backcall in /usr/local/lib/python3.10/dist-packages (from ipython>=4.0.0->ipywidgets->ipyfilechooser>=0.6.0->geemap) (0.2.0)\n",
            "Requirement already satisfied: matplotlib-inline in /usr/local/lib/python3.10/dist-packages (from ipython>=4.0.0->ipywidgets->ipyfilechooser>=0.6.0->geemap) (0.1.6)\n",
            "Requirement already satisfied: pexpect>4.3 in /usr/local/lib/python3.10/dist-packages (from ipython>=4.0.0->ipywidgets->ipyfilechooser>=0.6.0->geemap) (4.9.0)\n",
            "Requirement already satisfied: pyasn1<0.6.0,>=0.4.6 in /usr/local/lib/python3.10/dist-packages (from pyasn1-modules>=0.2.1->google-auth>=1.4.1->earthengine-api>=0.1.347->geemap) (0.5.1)\n",
            "Requirement already satisfied: notebook>=4.4.1 in /usr/local/lib/python3.10/dist-packages (from widgetsnbextension~=3.6.0->ipywidgets->ipyfilechooser>=0.6.0->geemap) (6.5.5)\n",
            "Requirement already satisfied: parso<0.9.0,>=0.8.3 in /usr/local/lib/python3.10/dist-packages (from jedi>=0.16->ipython>=4.0.0->ipywidgets->ipyfilechooser>=0.6.0->geemap) (0.8.3)\n",
            "Requirement already satisfied: pyzmq<25,>=17 in /usr/local/lib/python3.10/dist-packages (from notebook>=4.4.1->widgetsnbextension~=3.6.0->ipywidgets->ipyfilechooser>=0.6.0->geemap) (23.2.1)\n",
            "Requirement already satisfied: argon2-cffi in /usr/local/lib/python3.10/dist-packages (from notebook>=4.4.1->widgetsnbextension~=3.6.0->ipywidgets->ipyfilechooser>=0.6.0->geemap) (23.1.0)\n",
            "Requirement already satisfied: jupyter-core>=4.6.1 in /usr/local/lib/python3.10/dist-packages (from notebook>=4.4.1->widgetsnbextension~=3.6.0->ipywidgets->ipyfilechooser>=0.6.0->geemap) (5.7.2)\n",
            "Requirement already satisfied: nbformat in /usr/local/lib/python3.10/dist-packages (from notebook>=4.4.1->widgetsnbextension~=3.6.0->ipywidgets->ipyfilechooser>=0.6.0->geemap) (5.10.3)\n",
            "Requirement already satisfied: nbconvert>=5 in /usr/local/lib/python3.10/dist-packages (from notebook>=4.4.1->widgetsnbextension~=3.6.0->ipywidgets->ipyfilechooser>=0.6.0->geemap) (6.5.4)\n",
            "Requirement already satisfied: nest-asyncio>=1.5 in /usr/local/lib/python3.10/dist-packages (from notebook>=4.4.1->widgetsnbextension~=3.6.0->ipywidgets->ipyfilechooser>=0.6.0->geemap) (1.6.0)\n",
            "Requirement already satisfied: Send2Trash>=1.8.0 in /usr/local/lib/python3.10/dist-packages (from notebook>=4.4.1->widgetsnbextension~=3.6.0->ipywidgets->ipyfilechooser>=0.6.0->geemap) (1.8.2)\n",
            "Requirement already satisfied: terminado>=0.8.3 in /usr/local/lib/python3.10/dist-packages (from notebook>=4.4.1->widgetsnbextension~=3.6.0->ipywidgets->ipyfilechooser>=0.6.0->geemap) (0.18.1)\n",
            "Requirement already satisfied: prometheus-client in /usr/local/lib/python3.10/dist-packages (from notebook>=4.4.1->widgetsnbextension~=3.6.0->ipywidgets->ipyfilechooser>=0.6.0->geemap) (0.20.0)\n",
            "Requirement already satisfied: nbclassic>=0.4.7 in /usr/local/lib/python3.10/dist-packages (from notebook>=4.4.1->widgetsnbextension~=3.6.0->ipywidgets->ipyfilechooser>=0.6.0->geemap) (1.0.0)\n",
            "Requirement already satisfied: ptyprocess>=0.5 in /usr/local/lib/python3.10/dist-packages (from pexpect>4.3->ipython>=4.0.0->ipywidgets->ipyfilechooser>=0.6.0->geemap) (0.7.0)\n",
            "Requirement already satisfied: wcwidth in /usr/local/lib/python3.10/dist-packages (from prompt-toolkit!=3.0.0,!=3.0.1,<3.1.0,>=2.0.0->ipython>=4.0.0->ipywidgets->ipyfilechooser>=0.6.0->geemap) (0.2.13)\n",
            "Requirement already satisfied: platformdirs>=2.5 in /usr/local/lib/python3.10/dist-packages (from jupyter-core>=4.6.1->notebook>=4.4.1->widgetsnbextension~=3.6.0->ipywidgets->ipyfilechooser>=0.6.0->geemap) (4.2.0)\n",
            "Requirement already satisfied: jupyter-server>=1.8 in /usr/local/lib/python3.10/dist-packages (from nbclassic>=0.4.7->notebook>=4.4.1->widgetsnbextension~=3.6.0->ipywidgets->ipyfilechooser>=0.6.0->geemap) (1.24.0)\n",
            "Requirement already satisfied: notebook-shim>=0.2.3 in /usr/local/lib/python3.10/dist-packages (from nbclassic>=0.4.7->notebook>=4.4.1->widgetsnbextension~=3.6.0->ipywidgets->ipyfilechooser>=0.6.0->geemap) (0.2.4)\n",
            "Requirement already satisfied: lxml in /usr/local/lib/python3.10/dist-packages (from nbconvert>=5->notebook>=4.4.1->widgetsnbextension~=3.6.0->ipywidgets->ipyfilechooser>=0.6.0->geemap) (4.9.4)\n",
            "Requirement already satisfied: beautifulsoup4 in /usr/local/lib/python3.10/dist-packages (from nbconvert>=5->notebook>=4.4.1->widgetsnbextension~=3.6.0->ipywidgets->ipyfilechooser>=0.6.0->geemap) (4.12.3)\n",
            "Requirement already satisfied: bleach in /usr/local/lib/python3.10/dist-packages (from nbconvert>=5->notebook>=4.4.1->widgetsnbextension~=3.6.0->ipywidgets->ipyfilechooser>=0.6.0->geemap) (6.1.0)\n",
            "Requirement already satisfied: defusedxml in /usr/local/lib/python3.10/dist-packages (from nbconvert>=5->notebook>=4.4.1->widgetsnbextension~=3.6.0->ipywidgets->ipyfilechooser>=0.6.0->geemap) (0.7.1)\n",
            "Requirement already satisfied: entrypoints>=0.2.2 in /usr/local/lib/python3.10/dist-packages (from nbconvert>=5->notebook>=4.4.1->widgetsnbextension~=3.6.0->ipywidgets->ipyfilechooser>=0.6.0->geemap) (0.4)\n",
            "Requirement already satisfied: jupyterlab-pygments in /usr/local/lib/python3.10/dist-packages (from nbconvert>=5->notebook>=4.4.1->widgetsnbextension~=3.6.0->ipywidgets->ipyfilechooser>=0.6.0->geemap) (0.3.0)\n",
            "Requirement already satisfied: mistune<2,>=0.8.1 in /usr/local/lib/python3.10/dist-packages (from nbconvert>=5->notebook>=4.4.1->widgetsnbextension~=3.6.0->ipywidgets->ipyfilechooser>=0.6.0->geemap) (0.8.4)\n",
            "Requirement already satisfied: nbclient>=0.5.0 in /usr/local/lib/python3.10/dist-packages (from nbconvert>=5->notebook>=4.4.1->widgetsnbextension~=3.6.0->ipywidgets->ipyfilechooser>=0.6.0->geemap) (0.10.0)\n",
            "Requirement already satisfied: pandocfilters>=1.4.1 in /usr/local/lib/python3.10/dist-packages (from nbconvert>=5->notebook>=4.4.1->widgetsnbextension~=3.6.0->ipywidgets->ipyfilechooser>=0.6.0->geemap) (1.5.1)\n",
            "Requirement already satisfied: tinycss2 in /usr/local/lib/python3.10/dist-packages (from nbconvert>=5->notebook>=4.4.1->widgetsnbextension~=3.6.0->ipywidgets->ipyfilechooser>=0.6.0->geemap) (1.2.1)\n",
            "Requirement already satisfied: fastjsonschema in /usr/local/lib/python3.10/dist-packages (from nbformat->notebook>=4.4.1->widgetsnbextension~=3.6.0->ipywidgets->ipyfilechooser>=0.6.0->geemap) (2.19.1)\n",
            "Requirement already satisfied: jsonschema>=2.6 in /usr/local/lib/python3.10/dist-packages (from nbformat->notebook>=4.4.1->widgetsnbextension~=3.6.0->ipywidgets->ipyfilechooser>=0.6.0->geemap) (4.19.2)\n",
            "Requirement already satisfied: argon2-cffi-bindings in /usr/local/lib/python3.10/dist-packages (from argon2-cffi->notebook>=4.4.1->widgetsnbextension~=3.6.0->ipywidgets->ipyfilechooser>=0.6.0->geemap) (21.2.0)\n",
            "Requirement already satisfied: jsonschema-specifications>=2023.03.6 in /usr/local/lib/python3.10/dist-packages (from jsonschema>=2.6->nbformat->notebook>=4.4.1->widgetsnbextension~=3.6.0->ipywidgets->ipyfilechooser>=0.6.0->geemap) (2023.12.1)\n",
            "Requirement already satisfied: referencing>=0.28.4 in /usr/local/lib/python3.10/dist-packages (from jsonschema>=2.6->nbformat->notebook>=4.4.1->widgetsnbextension~=3.6.0->ipywidgets->ipyfilechooser>=0.6.0->geemap) (0.34.0)\n",
            "Requirement already satisfied: rpds-py>=0.7.1 in /usr/local/lib/python3.10/dist-packages (from jsonschema>=2.6->nbformat->notebook>=4.4.1->widgetsnbextension~=3.6.0->ipywidgets->ipyfilechooser>=0.6.0->geemap) (0.18.0)\n",
            "Requirement already satisfied: anyio<4,>=3.1.0 in /usr/local/lib/python3.10/dist-packages (from jupyter-server>=1.8->nbclassic>=0.4.7->notebook>=4.4.1->widgetsnbextension~=3.6.0->ipywidgets->ipyfilechooser>=0.6.0->geemap) (3.7.1)\n",
            "Requirement already satisfied: websocket-client in /usr/local/lib/python3.10/dist-packages (from jupyter-server>=1.8->nbclassic>=0.4.7->notebook>=4.4.1->widgetsnbextension~=3.6.0->ipywidgets->ipyfilechooser>=0.6.0->geemap) (1.7.0)\n",
            "Requirement already satisfied: cffi>=1.0.1 in /usr/local/lib/python3.10/dist-packages (from argon2-cffi-bindings->argon2-cffi->notebook>=4.4.1->widgetsnbextension~=3.6.0->ipywidgets->ipyfilechooser>=0.6.0->geemap) (1.16.0)\n",
            "Requirement already satisfied: soupsieve>1.2 in /usr/local/lib/python3.10/dist-packages (from beautifulsoup4->nbconvert>=5->notebook>=4.4.1->widgetsnbextension~=3.6.0->ipywidgets->ipyfilechooser>=0.6.0->geemap) (2.5)\n",
            "Requirement already satisfied: webencodings in /usr/local/lib/python3.10/dist-packages (from bleach->nbconvert>=5->notebook>=4.4.1->widgetsnbextension~=3.6.0->ipywidgets->ipyfilechooser>=0.6.0->geemap) (0.5.1)\n",
            "Requirement already satisfied: sniffio>=1.1 in /usr/local/lib/python3.10/dist-packages (from anyio<4,>=3.1.0->jupyter-server>=1.8->nbclassic>=0.4.7->notebook>=4.4.1->widgetsnbextension~=3.6.0->ipywidgets->ipyfilechooser>=0.6.0->geemap) (1.3.1)\n",
            "Requirement already satisfied: exceptiongroup in /usr/local/lib/python3.10/dist-packages (from anyio<4,>=3.1.0->jupyter-server>=1.8->nbclassic>=0.4.7->notebook>=4.4.1->widgetsnbextension~=3.6.0->ipywidgets->ipyfilechooser>=0.6.0->geemap) (1.2.0)\n",
            "Requirement already satisfied: pycparser in /usr/local/lib/python3.10/dist-packages (from cffi>=1.0.1->argon2-cffi-bindings->argon2-cffi->notebook>=4.4.1->widgetsnbextension~=3.6.0->ipywidgets->ipyfilechooser>=0.6.0->geemap) (2.21)\n",
            "Installing collected packages: jedi\n",
            "Successfully installed jedi-0.19.1\n"
          ]
        }
      ]
    },
    {
      "cell_type": "markdown",
      "source": [
        "## Module Imports"
      ],
      "metadata": {
        "id": "QCntwp7jvBZ-"
      }
    },
    {
      "cell_type": "code",
      "source": [
        "import geemap\n",
        "import geopandas as gpd\n",
        "from pprint import pprint\n",
        "import ee\n",
        "from datetime import datetime, timedelta\n",
        "import pandas as pd"
      ],
      "metadata": {
        "id": "Jkly4lhevDok"
      },
      "execution_count": null,
      "outputs": []
    },
    {
      "cell_type": "markdown",
      "source": [
        "## Mount Google Drive"
      ],
      "metadata": {
        "id": "346StWJBvHez"
      }
    },
    {
      "cell_type": "code",
      "source": [
        "from google.colab import drive\n",
        "drive.mount('/content/drive', force_remount=True)"
      ],
      "metadata": {
        "id": "p-9ixp6bvLS9",
        "colab": {
          "base_uri": "https://localhost:8080/",
          "height": 34
        },
        "outputId": "173f2648-6a1a-4e6e-96c7-20e6b397e99f"
      },
      "execution_count": null,
      "outputs": [
        {
          "output_type": "display_data",
          "data": {
            "text/plain": [
              "<IPython.core.display.HTML object>"
            ],
            "text/html": [
              "\n",
              "            <style>\n",
              "                .geemap-dark {\n",
              "                    --jp-widgets-color: white;\n",
              "                    --jp-widgets-label-color: white;\n",
              "                    --jp-ui-font-color1: white;\n",
              "                    --jp-layout-color2: #454545;\n",
              "                    background-color: #383838;\n",
              "                }\n",
              "\n",
              "                .geemap-dark .jupyter-button {\n",
              "                    --jp-layout-color3: #383838;\n",
              "                }\n",
              "\n",
              "                .geemap-colab {\n",
              "                    background-color: var(--colab-primary-surface-color, white);\n",
              "                }\n",
              "\n",
              "                .geemap-colab .jupyter-button {\n",
              "                    --jp-layout-color3: var(--colab-primary-surface-color, white);\n",
              "                }\n",
              "            </style>\n",
              "            "
            ]
          },
          "metadata": {}
        },
        {
          "output_type": "stream",
          "name": "stdout",
          "text": [
            "Mounted at /content/drive\n"
          ]
        }
      ]
    },
    {
      "cell_type": "code",
      "source": [
        "cd /content/drive/MyDrive/LULC_Experiments_Chahat_Ananjan_Saketh"
      ],
      "metadata": {
        "id": "K7F0hFrdvOwH",
        "colab": {
          "base_uri": "https://localhost:8080/",
          "height": 34
        },
        "outputId": "a8f78dca-a0c9-41f4-8945-79ccece6be99"
      },
      "execution_count": null,
      "outputs": [
        {
          "output_type": "display_data",
          "data": {
            "text/plain": [
              "<IPython.core.display.HTML object>"
            ],
            "text/html": [
              "\n",
              "            <style>\n",
              "                .geemap-dark {\n",
              "                    --jp-widgets-color: white;\n",
              "                    --jp-widgets-label-color: white;\n",
              "                    --jp-ui-font-color1: white;\n",
              "                    --jp-layout-color2: #454545;\n",
              "                    background-color: #383838;\n",
              "                }\n",
              "\n",
              "                .geemap-dark .jupyter-button {\n",
              "                    --jp-layout-color3: #383838;\n",
              "                }\n",
              "\n",
              "                .geemap-colab {\n",
              "                    background-color: var(--colab-primary-surface-color, white);\n",
              "                }\n",
              "\n",
              "                .geemap-colab .jupyter-button {\n",
              "                    --jp-layout-color3: var(--colab-primary-surface-color, white);\n",
              "                }\n",
              "            </style>\n",
              "            "
            ]
          },
          "metadata": {}
        },
        {
          "output_type": "stream",
          "name": "stdout",
          "text": [
            "/content/drive/MyDrive/LULC_Experiments_Chahat_Ananjan_Saketh\n"
          ]
        }
      ]
    },
    {
      "cell_type": "markdown",
      "source": [
        "## Authenticate to Google Earth Engine"
      ],
      "metadata": {
        "id": "FBg2jArDvSv3"
      }
    },
    {
      "cell_type": "code",
      "source": [
        "ee.Authenticate(force=True) #Uncomment this whenever needed, once done usually not needed for 1-2 days"
      ],
      "metadata": {
        "id": "GXSXdKfivbFF",
        "colab": {
          "base_uri": "https://localhost:8080/",
          "height": 17
        },
        "outputId": "a58d5a42-ccb7-4eb0-b48e-c0d574a6cd82"
      },
      "execution_count": null,
      "outputs": [
        {
          "output_type": "display_data",
          "data": {
            "text/plain": [
              "<IPython.core.display.HTML object>"
            ],
            "text/html": [
              "\n",
              "            <style>\n",
              "                .geemap-dark {\n",
              "                    --jp-widgets-color: white;\n",
              "                    --jp-widgets-label-color: white;\n",
              "                    --jp-ui-font-color1: white;\n",
              "                    --jp-layout-color2: #454545;\n",
              "                    background-color: #383838;\n",
              "                }\n",
              "\n",
              "                .geemap-dark .jupyter-button {\n",
              "                    --jp-layout-color3: #383838;\n",
              "                }\n",
              "\n",
              "                .geemap-colab {\n",
              "                    background-color: var(--colab-primary-surface-color, white);\n",
              "                }\n",
              "\n",
              "                .geemap-colab .jupyter-button {\n",
              "                    --jp-layout-color3: var(--colab-primary-surface-color, white);\n",
              "                }\n",
              "            </style>\n",
              "            "
            ]
          },
          "metadata": {}
        }
      ]
    },
    {
      "cell_type": "code",
      "source": [
        "ee.Initialize(project = 'ee-indiasat')"
      ],
      "metadata": {
        "id": "NK6QSWMvveBt",
        "colab": {
          "base_uri": "https://localhost:8080/",
          "height": 17
        },
        "outputId": "91417d6f-f0d1-4015-b167-3a987ba6f7ff"
      },
      "execution_count": null,
      "outputs": [
        {
          "output_type": "display_data",
          "data": {
            "text/plain": [
              "<IPython.core.display.HTML object>"
            ],
            "text/html": [
              "\n",
              "            <style>\n",
              "                .geemap-dark {\n",
              "                    --jp-widgets-color: white;\n",
              "                    --jp-widgets-label-color: white;\n",
              "                    --jp-ui-font-color1: white;\n",
              "                    --jp-layout-color2: #454545;\n",
              "                    background-color: #383838;\n",
              "                }\n",
              "\n",
              "                .geemap-dark .jupyter-button {\n",
              "                    --jp-layout-color3: #383838;\n",
              "                }\n",
              "\n",
              "                .geemap-colab {\n",
              "                    background-color: var(--colab-primary-surface-color, white);\n",
              "                }\n",
              "\n",
              "                .geemap-colab .jupyter-button {\n",
              "                    --jp-layout-color3: var(--colab-primary-surface-color, white);\n",
              "                }\n",
              "            </style>\n",
              "            "
            ]
          },
          "metadata": {}
        }
      ]
    },
    {
      "cell_type": "markdown",
      "source": [
        "# Function Definitions"
      ],
      "metadata": {
        "id": "jL3Anh2eFPkw"
      }
    },
    {
      "cell_type": "markdown",
      "source": [
        "## Defining constants"
      ],
      "metadata": {
        "id": "GZ8WE4iQM9Dy"
      }
    },
    {
      "cell_type": "code",
      "source": [
        "chastainBandNames = ['BLUE', 'GREEN', 'RED', 'NIR', 'SWIR1', 'SWIR2']\n",
        "\n",
        "# Regression model parameters from Table-4. MSI TOA reflectance as a function of OLI TOA reflectance.\n",
        "msiOLISlopes = [1.0946,1.0043,1.0524,0.8954,1.0049,1.0002]\n",
        "msiOLIIntercepts = [-0.0107,0.0026,-0.0015,0.0033,0.0065,0.0046]\n",
        "\n",
        "# Regression model parameters from Table-5. MSI TOA reflectance as a function of ETM+ TOA reflectance.\n",
        "msiETMSlopes = [1.10601,0.99091,1.05681,1.0045,1.03611,1.04011]\n",
        "msiETMIntercepts = [-0.0139,0.00411,-0.0024,-0.0076,0.00411,0.00861]\n",
        "\n",
        "# Regression model parameters from Table-6. OLI TOA reflectance as a function of ETM+ TOA reflectance.\n",
        "oliETMSlopes =[1.03501,1.00921,1.01991,1.14061,1.04351,1.05271];\n",
        "oliETMIntercepts = [-0.0055,-0.0008,-0.0021,-0.0163,-0.0045,0.00261]\n",
        "\n",
        "# Construct dictionary to handle all pairwise combos\n",
        "chastainCoeffDict = { 'MSI_OLI':[msiOLISlopes,msiOLIIntercepts,1], # check what the third item corresponds to\n",
        "                      'MSI_ETM':[msiETMSlopes,msiETMIntercepts,1],\n",
        "                      'OLI_ETM':[oliETMSlopes,oliETMIntercepts,1],\n",
        "                      'OLI_MSI':[msiOLISlopes,msiOLIIntercepts,0],\n",
        "                      'ETM_MSI':[msiETMSlopes,msiETMIntercepts,0],\n",
        "                      'ETM_OLI':[oliETMSlopes,oliETMIntercepts,0]\n",
        "                    }"
      ],
      "metadata": {
        "id": "U1CKZDHZMnS4",
        "colab": {
          "base_uri": "https://localhost:8080/",
          "height": 17
        },
        "outputId": "c8cd5fa3-2176-4bf2-ac72-41ef0ed91194"
      },
      "execution_count": null,
      "outputs": [
        {
          "output_type": "display_data",
          "data": {
            "text/plain": [
              "<IPython.core.display.HTML object>"
            ],
            "text/html": [
              "\n",
              "            <style>\n",
              "                .geemap-dark {\n",
              "                    --jp-widgets-color: white;\n",
              "                    --jp-widgets-label-color: white;\n",
              "                    --jp-ui-font-color1: white;\n",
              "                    --jp-layout-color2: #454545;\n",
              "                    background-color: #383838;\n",
              "                }\n",
              "\n",
              "                .geemap-dark .jupyter-button {\n",
              "                    --jp-layout-color3: #383838;\n",
              "                }\n",
              "\n",
              "                .geemap-colab {\n",
              "                    background-color: var(--colab-primary-surface-color, white);\n",
              "                }\n",
              "\n",
              "                .geemap-colab .jupyter-button {\n",
              "                    --jp-layout-color3: var(--colab-primary-surface-color, white);\n",
              "                }\n",
              "            </style>\n",
              "            "
            ]
          },
          "metadata": {}
        }
      ]
    },
    {
      "cell_type": "markdown",
      "source": [
        "## Function defnitions"
      ],
      "metadata": {
        "id": "fC4aKxunNBvn"
      }
    },
    {
      "cell_type": "code",
      "source": [
        "'''\n",
        "Function to mask cloudy pixels in Landsat-7\n",
        "'''\n",
        "# def maskL7cloud(image):\n",
        "#   qa = image.select('BQA')\n",
        "#   mask = qa.bitwiseAnd(1 << 4).eq(0)\n",
        "#   return image.updateMask(mask).select(['B1', 'B2', 'B3' , 'B4' , 'B5' , 'B7']).rename('BLUE', 'GREEN', 'RED' , 'NIR' , 'SWIR1' , 'SWIR2')\n",
        "\n",
        "'''\n",
        "Function to mask cloudy pixels in Landsat-7 (C2)\n",
        "'''\n",
        "def maskL7cloud(image):\n",
        "  qa = image.select('QA_PIXEL')\n",
        "  mask = qa.bitwiseAnd(1 << 3).eq(0)\n",
        "  return image.updateMask(mask).select(['B1', 'B2', 'B3' , 'B4' , 'B5' , 'B7']).rename('BLUE', 'GREEN', 'RED' , 'NIR' , 'SWIR1' , 'SWIR2')\n",
        "\n",
        "'''\n",
        "Function to mask cloudy pixels in Landsat-8\n",
        "'''\n",
        "# def maskL8cloud(image):\n",
        "#   qa = image.select('BQA')\n",
        "#   mask = qa.bitwiseAnd(1 << 4).eq(0)\n",
        "#   return image.updateMask(mask).select(['B2', 'B3', 'B4' , 'B5' , 'B6' , 'B7']).rename('BLUE', 'GREEN', 'RED' , 'NIR' , 'SWIR1' , 'SWIR2')\n",
        "\n",
        "'''\n",
        "Function to mask cloudy pixels in Landsat-8 (C2)\n",
        "'''\n",
        "def maskL8cloud(image):\n",
        "  qa = image.select('QA_PIXEL')\n",
        "  mask = qa.bitwiseAnd(1 << 3).eq(0)\n",
        "  return image.updateMask(mask).select(['B2', 'B3', 'B4' , 'B5' , 'B6' , 'B7']).rename('BLUE', 'GREEN', 'RED' , 'NIR' , 'SWIR1' , 'SWIR2')\n",
        "\n",
        "'''\n",
        "Function to mask cloudy pixels in Landsat-9 (C2)\n",
        "'''\n",
        "def maskL9cloud(image):\n",
        "  qa = image.select('QA_PIXEL')\n",
        "  mask = qa.bitwiseAnd(1 << 3).eq(0)\n",
        "  return image.updateMask(mask).select(['B2', 'B3', 'B4' , 'B5' , 'B6' , 'B7']).rename('BLUE', 'GREEN', 'RED' , 'NIR' , 'SWIR1' , 'SWIR2')\n",
        "\n",
        "'''\n",
        "Function to mask clouds using the quality band of Semtinel-2 TOA\n",
        "'''\n",
        "def maskS2cloud(image):\n",
        "  qa = image.select('QA60')\n",
        "  # Bits 10 and 11 are clouds and cirrus, respectively.\n",
        "  cloudBitMask = 1 << 10\n",
        "  cirrusBitMask = 1 << 11\n",
        "  # Both flags should be set to zero, indicating clear conditions.\n",
        "  mask = qa.bitwiseAnd(cloudBitMask).eq(0).And(qa.bitwiseAnd(cirrusBitMask).eq(0));\n",
        "  return image.updateMask(mask).select(['B2', 'B3', 'B4', 'B8',  'B11', 'B12']).rename(['BLUE', 'GREEN', 'RED', 'NIR', 'SWIR1', 'SWIR2'])\n",
        "\n",
        "'''\n",
        "Function to mask clouds using the quality band of NASA-HLSL30 TOA\n",
        "'''\n",
        "def maskHLSL30cloud(image):\n",
        "    # Select the Fmask band\n",
        "    fmask_band = image.select(['Fmask'])\n",
        "    # Create a mask for clear pixels (Fmask value of 0)\n",
        "    clear_mask = fmask_band.bitwiseAnd(1 << 1).eq(0)  # Bit 1: Cloud\n",
        "    # Update the image mask\n",
        "    return image.updateMask(clear_mask).select(['B2', 'B3', 'B4', 'B5',  'B6', 'B7']).rename(['BLUE', 'GREEN', 'RED', 'NIR', 'SWIR1', 'SWIR2'])\n",
        "\n",
        "\n",
        "'''\n",
        "Get Landsat and Sentinel image collections\n",
        "'''\n",
        "def Get_L7_L8_L9_S2_ImageCollections(inputStartDate, inputEndDate, roi_boundary):\n",
        "  # ------ Landsat 7 TOA\n",
        "  L7 = ee.ImageCollection('LANDSAT/LE07/C02/T1_TOA') \\\n",
        "          .filterDate(inputStartDate, inputEndDate) \\\n",
        "          .filterBounds(roi_boundary) \\\n",
        "          .map(maskL7cloud)\n",
        "  # print('\\n Original Landsat 7 TOA dataset: \\n',L7.limit(1).getInfo())\n",
        "  # print('Number of images in Landsat 7 TOA dataset: \\t',L7.size().getInfo())\n",
        "\n",
        "  # ------ Landsat 8 TOA\n",
        "  L8 = ee.ImageCollection('LANDSAT/LC08/C02/T1_TOA') \\\n",
        "          .filterDate(inputStartDate, inputEndDate) \\\n",
        "          .filterBounds(roi_boundary) \\\n",
        "          .map(maskL8cloud)\n",
        "  # print('\\n Original Landsat 8 TOA dataset: \\n', L8.limit(1).getInfo())\n",
        "  # print('Number of images in Landsat 8 TOA dataset: \\t',L8.size().getInfo())\n",
        "\n",
        "  # ------ Sentinel-2 TOA\n",
        "  S2 = ee.ImageCollection('COPERNICUS/S2_HARMONIZED') \\\n",
        "          .filterDate(inputStartDate, inputEndDate) \\\n",
        "          .filterBounds(roi_boundary)  \\\n",
        "          .map(maskS2cloud)\n",
        "  # print('\\n Original Sentinel-2 TOA dataset: \\n',S2.limit(1).getInfo())\n",
        "  # print('Number of images in Sentinel 2 TOA dataset: \\t',S2.size().getInfo())\n",
        "  # ------ Landsat 9 TOA\n",
        "  L9 = ee.ImageCollection('LANDSAT/LC09/C02/T1_TOA').filterDate(inputStartDate, inputEndDate).filterBounds(roi_boundary).map(maskL9cloud);\n",
        "  return L7, L8, L9, S2\n",
        "\n",
        "'''\n",
        "Get NASA-HLSL30 image collections\n",
        "'''\n",
        "def Get_HLSL30_ImageCollections(inputStartDate, inputEndDate, roi_boundary):\n",
        "  HLSL30 = ee.ImageCollection('NASA/HLS/HLSL30/v002') \\\n",
        "          .filterDate(inputStartDate, inputEndDate) \\\n",
        "          .filterBounds(roi_boundary) \\\n",
        "          .map(maskHLSL30cloud)\n",
        "  # print('\\n Original Landsat 7 TOA dataset: \\n',L7.limit(1).getInfo())\n",
        "  # print('Number of images in Landsat 7 TOA dataset: \\t',L7.size().getInfo())\n",
        "\n",
        "  return HLSL30\n",
        "\n",
        "'''\n",
        "Function to apply model in one direction\n",
        "'''\n",
        "def dir0Regression(img,slopes,intercepts):\n",
        "  return img.select(chastainBandNames).multiply(slopes).add(intercepts)\n",
        "\n",
        "\n",
        "'''\n",
        "Applying the model in the opposite direction\n",
        "'''\n",
        "def dir1Regression(img,slopes,intercepts):\n",
        "  return img.select(chastainBandNames).subtract(intercepts).divide(slopes)\n",
        "\n",
        "\n",
        "'''\n",
        "Function to correct one sensor to another\n",
        "'''\n",
        "def harmonizationChastain(img, fromSensor,toSensor):\n",
        "  # Get the model for the given from and to sensor\n",
        "  comboKey = fromSensor.upper() + '_' + toSensor.upper()\n",
        "  coeffList = chastainCoeffDict[comboKey]\n",
        "  slopes = coeffList[0]\n",
        "  intercepts = coeffList[1]\n",
        "  direction = ee.Number(coeffList[2])\n",
        "\n",
        "  # Apply the model in the respective direction\n",
        "  out = ee.Algorithms.If(direction.eq(0),dir0Regression(img,slopes,intercepts),dir1Regression(img,slopes,intercepts))\n",
        "  return ee.Image(out).copyProperties(img).copyProperties(img,['system:time_start'])\n",
        "\n",
        "\n",
        "'''\n",
        "Calibrate Landsat-8 (OLI) and Sentinel-2 (MSI) to Landsat-7 (ETM+)\n",
        "'''\n",
        "# def Harmonize_L7_L8_S2(L7, L8 = None, S2 = None):\n",
        "#   # harmonization\n",
        "#   harmonized_Landsat_ic = L7\n",
        "#   if(L8 is not None):\n",
        "#     harmonized_L8 = L8.map( lambda img: harmonizationChastain(img, 'OLI','ETM') )\n",
        "\n",
        "#     # Merge harmonized landsat-8 and sentinel-2 to landsat-7 image collection\n",
        "#     harmonized_Landsat_ic = ee.ImageCollection(L7.merge(harmonized_L8))\n",
        "#   if(S2 is not None):\n",
        "#     harmonized_S2 = S2.map( lambda img: harmonizationChastain(img, 'MSI','ETM') )\n",
        "#     harmonized_LandsatSentinel_ic = ee.ImageCollection(harmonized_Landsat_ic.merge(harmonized_S2))\n",
        "#     return harmonized_LandsatSentinel_ic\n",
        "#   # print(harmonized_LandsatSentinel_ic.size().getInfo())\n",
        "#   return harmonized_Landsat_ic\n",
        "\n",
        "'''\n",
        "Calibrate Landsat-8 (OLI), Landsat-9 (OLI-2) and Sentinel-2 (MSI) to Landsat-7 (ETM+)\n",
        "'''\n",
        "\n",
        "def Harmonize_L7_L8_L9_S2(L7, L8, S2 = None, L9 = None):\n",
        "  # harmonization\n",
        "  harmonized_L8 = L8.map( lambda img: harmonizationChastain(img, 'OLI','ETM') )\n",
        "\n",
        "  # Merge harmonized landsat-8 and sentinel-2 to landsat-7 image collection\n",
        "  harmonized_Landsat_ic = ee.ImageCollection(L7.merge(harmonized_L8))\n",
        "  if(L9 is not None):\n",
        "    harmonized_L9 = L9.map( lambda img: harmonizationChastain(img, 'OLI','ETM') )\n",
        "    harmonized_Landsat_ic = ee.ImageCollection(harmonized_Landsat_ic.merge(harmonized_L9))\n",
        "  if(S2 is not None):\n",
        "    harmonized_S2 = S2.map( lambda img: harmonizationChastain(img, 'MSI','ETM') )\n",
        "    harmonized_LandsatSentinel_ic = ee.ImageCollection(harmonized_Landsat_ic.merge(harmonized_S2))\n",
        "    return harmonized_LandsatSentinel_ic\n",
        "  # print(harmonized_LandsatSentinel_ic.size().getInfo())\n",
        "  return harmonized_Landsat_ic\n",
        "\n",
        "\n",
        "'''\n",
        "Add NDVI band to harmonized image collection\n",
        "'''\n",
        "def addNDVI(image):\n",
        "  return image.addBands(image.normalizedDifference(['NIR', 'RED']).rename('NDVI')).float()\n",
        "\n",
        "'''\n",
        "Add GCI band to harmonized image collection\n",
        "'''\n",
        "def addGCI(image):\n",
        "  return image.addBands(image.normalizedDifference(['GREEN', 'RED']).rename('GCI')).float()\n",
        "\n",
        "'''\n",
        "Add NDVI band to harmonized image collection\n",
        "'''\n",
        "def addNDVIHLSL30(image):\n",
        "    # Load bands with appropriate scale factors\n",
        "    red = image.select('RED').multiply(0.0001)\n",
        "    nir = image.select('NIR').multiply(0.0001)\n",
        "    return image.addBands(image.normalizedDifference([nir, red]).rename('NDVI')).float()\n",
        "\n",
        "'''\n",
        "Function definitions to get NDVI values at each 16-day composites\n",
        "'''\n",
        "def Get_NDVI_image_datewise(harmonized_LS_ic):\n",
        "  def get_NDVI_datewise(date):\n",
        "    return harmonized_LS_ic.select(['NDVI']) \\\n",
        "                            .filterDate(ee.Date(date), ee.Date(date).advance(16, 'day')) \\\n",
        "                            .median() \\\n",
        "                            .set('system:time_start',ee.Date(date).millis())\n",
        "  return get_NDVI_datewise\n",
        "\n",
        "def Get_LS_16Day_NDVI_TimeSeries(inputStartDate, inputEndDate, harmonized_LS_ic):\n",
        "  startDate = datetime.strptime(inputStartDate,\"%Y-%m-%d\")\n",
        "  endDate = datetime.strptime(inputEndDate,\"%Y-%m-%d\")\n",
        "\n",
        "  date_list = pd.date_range(start=startDate, end=endDate, freq='16D').tolist()\n",
        "  date_list = ee.List( [datetime.strftime(curr_date,\"%Y-%m-%d\") for curr_date in date_list] )\n",
        "\n",
        "  LSC =  ee.ImageCollection.fromImages(date_list.map(Get_NDVI_image_datewise(harmonized_LS_ic)))\n",
        "\n",
        "  return LSC\n",
        "\n",
        "'''\n",
        "Function definitions to get GCI values at each 16-day composites\n",
        "'''\n",
        "def Get_GCI_image_datewise(harmonized_LS_ic):\n",
        "  def get_GCI_datewise(date):\n",
        "    return harmonized_LS_ic.select(['GCI']) \\\n",
        "                            .filterDate(ee.Date(date), ee.Date(date).advance(16, 'day')) \\\n",
        "                            .median() \\\n",
        "                            .set('system:time_start',ee.Date(date).millis())\n",
        "  return get_GCI_datewise\n",
        "\n",
        "def Get_LS_16Day_GCI_TimeSeries(inputStartDate, inputEndDate, harmonized_LS_ic):\n",
        "  startDate = datetime.strptime(inputStartDate,\"%Y-%m-%d\")\n",
        "  endDate = datetime.strptime(inputEndDate,\"%Y-%m-%d\")\n",
        "\n",
        "  date_list = pd.date_range(start=startDate, end=endDate, freq='16D').tolist()\n",
        "  date_list = ee.List( [datetime.strftime(curr_date,\"%Y-%m-%d\") for curr_date in date_list] )\n",
        "\n",
        "  LSC =  ee.ImageCollection.fromImages(date_list.map(Get_NDVI_image_datewise(harmonized_LS_ic)))\n",
        "\n",
        "  return LSC\n",
        "\n",
        "\n",
        "'''\n",
        "Pair available LSC and modis values for each time stamp.\n",
        "'''\n",
        "def pairLSModis(lsRenameBands):\n",
        "  def pair(feature):\n",
        "    date = ee.Date( feature.get('system:time_start') )\n",
        "    startDateT = date.advance(-8,'day')\n",
        "    endDateT = date.advance(8,'day')\n",
        "\n",
        "    # ------ MODIS VI ( We can add EVI to the band list later )\n",
        "    modis = ee.ImageCollection('MODIS/061/MOD13Q1') \\\n",
        "              .filterDate(startDateT, endDateT) \\\n",
        "              .select(['NDVI','SummaryQA']) \\\n",
        "              .filterBounds(roi_boundary) \\\n",
        "              .median() \\\n",
        "              .rename(['NDVI_modis', 'SummaryQA_modis'])\n",
        "\n",
        "    return feature.rename(lsRenameBands).addBands(modis)\n",
        "  return pair\n",
        "\n",
        "\n",
        "'''\n",
        "Function to get Pearson Correlation Coffecient to perform GapFilling\n",
        "'''\n",
        "def get_Pearson_Correlation_Coefficients(LSC_modis_paired_ic, roi_boundary, bandList):\n",
        "  corr = LSC_modis_paired_ic.filterBounds(roi_boundary) \\\n",
        "                            .select(bandList).toArray() \\\n",
        "                            .arrayReduce( reducer = ee.Reducer.pearsonsCorrelation(), axes=[0], fieldAxis=1 ) \\\n",
        "                            .arrayProject([1]).arrayFlatten([['c', 'p']])\n",
        "  return corr\n",
        "\n",
        "\n",
        "'''\n",
        "Fill gaps in LSC timeseries using modis data\n",
        "'''\n",
        "def gapfillLSM(LSC_modis_regression_model, LSC_bandName, modis_bandName):\n",
        "  def peformGapfilling(image):\n",
        "    offset = LSC_modis_regression_model.select('offset')\n",
        "    scale = LSC_modis_regression_model.select('scale')\n",
        "    nodata = -1\n",
        "\n",
        "    lsc_image = image.select(LSC_bandName)\n",
        "    modisfit = image.select(modis_bandName).multiply(scale).add(offset)\n",
        "\n",
        "    mask = lsc_image.mask()#update mask needs an input (no default input from the API document)\n",
        "    gapfill = lsc_image.unmask(nodata)\n",
        "    gapfill = gapfill.where(mask.Not(), modisfit)\n",
        "\n",
        "    '''\n",
        "    in SummaryQA,\n",
        "    0: Good data, use with confidence\n",
        "    1: Marginal data, useful but look at detailed QA for more information\n",
        "    2: Pixel covered with snow/ice\n",
        "    3: Pixel is cloudy\n",
        "    '''\n",
        "    qc_m = image.select('SummaryQA_modis').unmask(3)  # missing value is grouped as cloud\n",
        "    w_m  = modisfit.mask().rename('w_m').where(qc_m.eq(0), 0.8)  # default is 0.8\n",
        "    w_m = w_m.where(qc_m.eq(1), 0.5)   # Marginal\n",
        "    w_m = w_m.where(qc_m.gte(2), 0.2) # snow/ice or cloudy\n",
        "\n",
        "    # make sure these modis values are read where there is missing data from LandSat, Sentinel\n",
        "    w_l = gapfill.mask() # default is 1\n",
        "    w_l = w_l.where(mask.Not(), w_m)\n",
        "\n",
        "    return gapfill.addBands(w_l).rename(['gapfilled_'+LSC_bandName,'SummaryQA']) #have NDVI from modis and a summary of clarity for each\n",
        "\n",
        "  return peformGapfilling\n",
        "\n",
        "\n",
        "'''\n",
        "Function to combine LSC with Modis data\n",
        "'''\n",
        "def Combine_LS_Modis(LSC):\n",
        "  lsRenameBands = ee.Image(LSC.first()).bandNames().map( lambda band: ee.String(band).cat('_lsc') )\n",
        "  LSC_modis_paired_ic = LSC.map( pairLSModis(lsRenameBands) )\n",
        "\n",
        "  # Output contains scale, offset i.e. two bands\n",
        "  LSC_modis_regression_model_NDVI = LSC_modis_paired_ic.select(['NDVI_modis', 'NDVI_lsc']) \\\n",
        "                                                        .reduce(ee.Reducer.linearFit())\n",
        "\n",
        "  corr_NDVI = get_Pearson_Correlation_Coefficients(LSC_modis_paired_ic, roi_boundary, ['NDVI_modis', 'NDVI_lsc'])\n",
        "  LSMC_NDVI = LSC_modis_paired_ic.map(gapfillLSM(LSC_modis_regression_model_NDVI, 'NDVI_lsc', 'NDVI_modis'))\n",
        "\n",
        "  return LSMC_NDVI\n",
        "\n",
        "\n",
        "'''\n",
        "Mask out low quality pixels\n",
        "'''\n",
        "def mask_low_QA(lsmc_image):\n",
        "  low_qa = lsmc_image.select('SummaryQA').neq(0.2)\n",
        "  return lsmc_image.updateMask(low_qa).copyProperties(lsmc_image, ['system:time_start'])\n",
        "\n",
        "\n",
        "'''\n",
        "Add image timestamp to each image in time series\n",
        "'''\n",
        "def add_timestamp(image):\n",
        "  timeImage = image.metadata('system:time_start').rename('timestamp')\n",
        "  timeImageMasked = timeImage.updateMask(image.mask().select(0))\n",
        "  return image.addBands(timeImageMasked)\n",
        "\n",
        "\n",
        "'''\n",
        "Perform linear interpolation on missing values\n",
        "'''\n",
        "def performInterpolation(image):\n",
        "  image = ee.Image(image)\n",
        "  beforeImages = ee.List(image.get('before'))\n",
        "  beforeMosaic = ee.ImageCollection.fromImages(beforeImages).mosaic()\n",
        "  afterImages = ee.List(image.get('after'))\n",
        "  afterMosaic = ee.ImageCollection.fromImages(afterImages).mosaic()\n",
        "\n",
        "  # Interpolation formula\n",
        "  # y = y1 + (y2-y1)*((t – t1) / (t2 – t1))\n",
        "  # y = interpolated image\n",
        "  # y1 = before image\n",
        "  # y2 = after image\n",
        "  # t = interpolation timestamp\n",
        "  # t1 = before image timestamp\n",
        "  # t2 = after image timestamp\n",
        "\n",
        "  t1 = beforeMosaic.select('timestamp').rename('t1')\n",
        "  t2 = afterMosaic.select('timestamp').rename('t2')\n",
        "  t = image.metadata('system:time_start').rename('t')\n",
        "  timeImage = ee.Image.cat([t1, t2, t])\n",
        "  timeRatio = timeImage.expression('(t - t1) / (t2 - t1)', {\n",
        "                  't': timeImage.select('t'),\n",
        "                  't1': timeImage.select('t1'),\n",
        "                  't2': timeImage.select('t2'),\n",
        "              })\n",
        "\n",
        "  interpolated = beforeMosaic.add((afterMosaic.subtract(beforeMosaic).multiply(timeRatio)))\n",
        "  result = image.unmask(interpolated)\n",
        "  fill_value = ee.ImageCollection([beforeMosaic, afterMosaic]).mosaic()\n",
        "  result = result.unmask(fill_value)\n",
        "\n",
        "  return result.copyProperties(image, ['system:time_start'])\n",
        "\n",
        "\n",
        "def interpolate_timeseries(S1_TS):\n",
        "  lsmc_masked = S1_TS.map(mask_low_QA)\n",
        "  filtered = lsmc_masked.map(add_timestamp)\n",
        "\n",
        "  # Time window in which we are willing to look forward and backward for unmasked pixel in time series\n",
        "  timeWindow = 120\n",
        "\n",
        "  # Define a maxDifference filter to find all images within the specified days. Convert days to milliseconds.\n",
        "  millis = ee.Number(timeWindow).multiply(1000*60*60*24)\n",
        "  # Filter says that pick only those timestamps which lie between the 2 timestamps not more than millis difference apart\n",
        "  maxDiffFilter = ee.Filter.maxDifference(\n",
        "                              difference = millis,\n",
        "                              leftField = 'system:time_start',\n",
        "                              rightField = 'system:time_start',\n",
        "                            )\n",
        "\n",
        "  # Filter to find all images after a given image. Compare the image's timstamp against other images.\n",
        "  # Images ahead of target image should have higher timestamp.\n",
        "  lessEqFilter = ee.Filter.lessThanOrEquals(\n",
        "                            leftField = 'system:time_start',\n",
        "                            rightField = 'system:time_start'\n",
        "                          )\n",
        "\n",
        "  # Similarly define this filter to find all images before a given image\n",
        "  greaterEqFilter = ee.Filter.greaterThanOrEquals(\n",
        "                            leftField = 'system:time_start',\n",
        "                            rightField = 'system:time_start'\n",
        "                          )\n",
        "\n",
        "  # Apply first join to find all images that are after the target image but within the timeWindow\n",
        "  filter1 = ee.Filter.And( maxDiffFilter, lessEqFilter )\n",
        "  join1 = ee.Join.saveAll(\n",
        "                  matchesKey = 'after',\n",
        "                  ordering = 'system:time_start',\n",
        "                  ascending = False\n",
        "          )\n",
        "  join1Result = join1.apply(\n",
        "                  primary = filtered,\n",
        "                  secondary = filtered,\n",
        "                  condition = filter1\n",
        "                )\n",
        "\n",
        "  # Apply first join to find all images that are after the target image but within the timeWindow\n",
        "  filter2 = ee.Filter.And( maxDiffFilter, greaterEqFilter )\n",
        "  join2 = ee.Join.saveAll(\n",
        "                  matchesKey = 'before',\n",
        "                  ordering = 'system:time_start',\n",
        "                  ascending = True\n",
        "          )\n",
        "  join2Result = join2.apply(\n",
        "                  primary = join1Result,\n",
        "                  secondary = join1Result,\n",
        "                  condition = filter2\n",
        "                )\n",
        "\n",
        "  interpolated_S1_TS = ee.ImageCollection(join2Result.map(performInterpolation))\n",
        "\n",
        "  return interpolated_S1_TS"
      ],
      "metadata": {
        "id": "8PEuScIlKrfi",
        "colab": {
          "base_uri": "https://localhost:8080/",
          "height": 17
        },
        "outputId": "d3217c6c-e79e-4223-b588-66e99490fed5"
      },
      "execution_count": null,
      "outputs": [
        {
          "output_type": "display_data",
          "data": {
            "text/plain": [
              "<IPython.core.display.HTML object>"
            ],
            "text/html": [
              "\n",
              "            <style>\n",
              "                .geemap-dark {\n",
              "                    --jp-widgets-color: white;\n",
              "                    --jp-widgets-label-color: white;\n",
              "                    --jp-ui-font-color1: white;\n",
              "                    --jp-layout-color2: #454545;\n",
              "                    background-color: #383838;\n",
              "                }\n",
              "\n",
              "                .geemap-dark .jupyter-button {\n",
              "                    --jp-layout-color3: #383838;\n",
              "                }\n",
              "\n",
              "                .geemap-colab {\n",
              "                    background-color: var(--colab-primary-surface-color, white);\n",
              "                }\n",
              "\n",
              "                .geemap-colab .jupyter-button {\n",
              "                    --jp-layout-color3: var(--colab-primary-surface-color, white);\n",
              "                }\n",
              "            </style>\n",
              "            "
            ]
          },
          "metadata": {}
        }
      ]
    },
    {
      "cell_type": "markdown",
      "source": [
        "# Original Pan-India Cropland Time Series"
      ],
      "metadata": {
        "id": "o8cGSXeAsFfH"
      }
    },
    {
      "cell_type": "code",
      "source": [
        "# L7, L8 time series only\n",
        "croplands = ee.FeatureCollection('projects/ee-indiasat/assets/Polygon_Groundtruth/Cropland_groundtruth')\n",
        "roi_boundary = croplands.geometry()\n",
        "\n",
        "startDate = '2018-07-01'\n",
        "endDate = '2019-06-30'\n",
        "\n",
        "L7, L8, S2 = Get_L7_L8_S2_ImageCollections(startDate, endDate, roi_boundary)\n",
        "\n",
        "harmonized_L_ic = Harmonize_L7_L8_S2(L7, L8)\n",
        "harmonized_L_ic = harmonized_L_ic.map(addNDVI)\n",
        "LC = Get_LS_16Day_NDVI_TimeSeries(startDate, endDate, harmonized_L_ic)\n",
        "LMC_NDVI = Combine_LS_Modis(LC)\n",
        "Interpolated_LMC_NDVI = interpolate_timeseries(LMC_NDVI)\n",
        "final_LMC_NDVI_TS = Interpolated_LMC_NDVI.select(['gapfilled_NDVI_lsc']).toBands()\n",
        "final_LMC_NDVI_TS = final_LMC_NDVI_TS.clip(roi_boundary)\n",
        "\n",
        "train_set = final_LMC_NDVI_TS.sampleRegions(\n",
        "  collection = croplands,\n",
        "  scale = 30,\n",
        "  geometries = False\n",
        ")\n",
        "\n",
        "task = ee.batch.Export.table.toDrive(\n",
        "  collection = train_set,\n",
        "  folder = 'Non_Padded_Original_TS',\n",
        "  description = 'Non_Padded_Original_NDVI_TS_L7_L8',\n",
        "  fileNamePrefix = 'Non_Padded_Original_NDVI_TS_L7_L8',\n",
        "  fileFormat = 'CSV',\n",
        "  )\n",
        "\n",
        "task.start()\n"
      ],
      "metadata": {
        "id": "D0xRkg4TsZAg",
        "colab": {
          "base_uri": "https://localhost:8080/",
          "height": 17
        },
        "outputId": "3945f4ed-e149-4e20-beb4-d9faf1d78d11"
      },
      "execution_count": null,
      "outputs": [
        {
          "output_type": "display_data",
          "data": {
            "text/plain": [
              "<IPython.core.display.HTML object>"
            ],
            "text/html": [
              "\n",
              "            <style>\n",
              "                .geemap-dark {\n",
              "                    --jp-widgets-color: white;\n",
              "                    --jp-widgets-label-color: white;\n",
              "                    --jp-ui-font-color1: white;\n",
              "                    --jp-layout-color2: #454545;\n",
              "                    background-color: #383838;\n",
              "                }\n",
              "\n",
              "                .geemap-dark .jupyter-button {\n",
              "                    --jp-layout-color3: #383838;\n",
              "                }\n",
              "\n",
              "                .geemap-colab {\n",
              "                    background-color: var(--colab-primary-surface-color, white);\n",
              "                }\n",
              "\n",
              "                .geemap-colab .jupyter-button {\n",
              "                    --jp-layout-color3: var(--colab-primary-surface-color, white);\n",
              "                }\n",
              "            </style>\n",
              "            "
            ]
          },
          "metadata": {}
        }
      ]
    },
    {
      "cell_type": "code",
      "source": [
        "# HLSL30 time series\n",
        "croplands = ee.FeatureCollection('projects/ee-indiasat/assets/Polygon_Groundtruth/Cropland_groundtruth')\n",
        "roi_boundary = croplands.geometry()\n",
        "\n",
        "startDate = '2018-07-01'\n",
        "endDate = '2019-06-30'\n",
        "\n",
        "HLSL30 = Get_HLSL30_ImageCollections(startDate, endDate, roi_boundary)\n",
        "\n",
        "HLSL30 = HLSL30.map(addNDVI)\n",
        "HLS = Get_LS_16Day_NDVI_TimeSeries(startDate, endDate, HLSL30)\n",
        "HLSM_NDVI = Combine_LS_Modis(HLS)\n",
        "Interpolated_HLSM_NDVI = interpolate_timeseries(HLSM_NDVI)\n",
        "final_HLSM_NDVI_TS = Interpolated_HLSM_NDVI.select(['gapfilled_NDVI_lsc']).toBands()\n",
        "final_HLSM_NDVI_TS = final_HLSM_NDVI_TS.clip(roi_boundary)\n",
        "\n",
        "train_set = final_HLSM_NDVI_TS.sampleRegions(\n",
        "  collection = croplands,\n",
        "  scale = 30,\n",
        "  geometries = False\n",
        ")\n",
        "\n",
        "task = ee.batch.Export.table.toDrive(\n",
        "  collection = train_set,\n",
        "  folder = 'Non_Padded_Original_TS',\n",
        "  description = 'Non_Padded_Original_NDVI_HLSM',\n",
        "  fileNamePrefix = 'Non_Padded_Original_NDVI_TS_HLSM',\n",
        "  fileFormat = 'CSV',\n",
        "  )\n",
        "\n",
        "task.start()"
      ],
      "metadata": {
        "colab": {
          "base_uri": "https://localhost:8080/",
          "height": 17
        },
        "id": "VtuJKNx_9T_P",
        "outputId": "2d86d3a9-3c55-4433-be8c-ef33cee22668"
      },
      "execution_count": null,
      "outputs": [
        {
          "output_type": "display_data",
          "data": {
            "text/plain": [
              "<IPython.core.display.HTML object>"
            ],
            "text/html": [
              "\n",
              "            <style>\n",
              "                .geemap-dark {\n",
              "                    --jp-widgets-color: white;\n",
              "                    --jp-widgets-label-color: white;\n",
              "                    --jp-ui-font-color1: white;\n",
              "                    --jp-layout-color2: #454545;\n",
              "                    background-color: #383838;\n",
              "                }\n",
              "                    \n",
              "                .geemap-dark .jupyter-button {\n",
              "                    --jp-layout-color3: #383838;\n",
              "                }\n",
              "                \n",
              "                .geemap-colab {\n",
              "                    background-color: var(--colab-primary-surface-color, white);\n",
              "                }\n",
              "                    \n",
              "                .geemap-colab .jupyter-button {\n",
              "                    --jp-layout-color3: var(--colab-primary-surface-color, white);\n",
              "                }\n",
              "            </style>\n",
              "            "
            ]
          },
          "metadata": {}
        }
      ]
    },
    {
      "cell_type": "code",
      "source": [
        "# L7, L8, L9, S2 time series (C2)\n",
        "croplands = ee.FeatureCollection('projects/ee-indiasat/assets/Polygon_Groundtruth/Cropland_groundtruth')\n",
        "roi_boundary = croplands.geometry()\n",
        "\n",
        "startDate = '2018-07-01'\n",
        "endDate = '2019-06-30'\n",
        "\n",
        "L7, L8, L9, S2 = Get_L7_L8_L9_S2_ImageCollections(startDate, endDate, roi_boundary)\n",
        "\n",
        "harmonized_LS_ic = Harmonize_L7_L8_L9_S2(L7, L8, S2, L9)\n",
        "harmonized_LS_ic = harmonized_LS_ic.map(addNDVI)\n",
        "LSC = Get_LS_16Day_NDVI_TimeSeries(startDate, endDate, harmonized_LS_ic)\n",
        "LSMC_NDVI = Combine_LS_Modis(LSC)\n",
        "Interpolated_LSMC_NDVI = interpolate_timeseries(LSMC_NDVI)\n",
        "final_LSMC_NDVI_TS = Interpolated_LSMC_NDVI.select(['gapfilled_NDVI_lsc']).toBands()\n",
        "final_LSMC_NDVI_TS = final_LSMC_NDVI_TS.clip(roi_boundary)\n",
        "\n",
        "train_set = final_LSMC_NDVI_TS.sampleRegions(\n",
        "  collection = croplands,\n",
        "  scale = 30,\n",
        "  geometries = False\n",
        ")\n",
        "\n",
        "task = ee.batch.Export.table.toDrive(\n",
        "  collection = train_set,\n",
        "  folder = 'Non_Padded_Original_TS',\n",
        "  description = 'Non_Padded_Original_NDVI_LSC_L9_C2_TS',\n",
        "  fileNamePrefix = 'Non_Padded_Original_NDVI_LSC_L9_C2_TS',\n",
        "  fileFormat = 'CSV',\n",
        "  )\n",
        "\n",
        "task.start()\n"
      ],
      "metadata": {
        "colab": {
          "base_uri": "https://localhost:8080/",
          "height": 17
        },
        "id": "Xnhq5He-eIfO",
        "outputId": "973ea831-971d-43a3-e949-bc27f0ac2b35"
      },
      "execution_count": null,
      "outputs": [
        {
          "output_type": "display_data",
          "data": {
            "text/plain": [
              "<IPython.core.display.HTML object>"
            ],
            "text/html": [
              "\n",
              "            <style>\n",
              "                .geemap-dark {\n",
              "                    --jp-widgets-color: white;\n",
              "                    --jp-widgets-label-color: white;\n",
              "                    --jp-ui-font-color1: white;\n",
              "                    --jp-layout-color2: #454545;\n",
              "                    background-color: #383838;\n",
              "                }\n",
              "                    \n",
              "                .geemap-dark .jupyter-button {\n",
              "                    --jp-layout-color3: #383838;\n",
              "                }\n",
              "                \n",
              "                .geemap-colab {\n",
              "                    background-color: var(--colab-primary-surface-color, white);\n",
              "                }\n",
              "                    \n",
              "                .geemap-colab .jupyter-button {\n",
              "                    --jp-layout-color3: var(--colab-primary-surface-color, white);\n",
              "                }\n",
              "            </style>\n",
              "            "
            ]
          },
          "metadata": {}
        }
      ]
    },
    {
      "cell_type": "code",
      "source": [],
      "metadata": {
        "id": "cAvla2TZhgjq"
      },
      "execution_count": null,
      "outputs": []
    }
  ]
}
